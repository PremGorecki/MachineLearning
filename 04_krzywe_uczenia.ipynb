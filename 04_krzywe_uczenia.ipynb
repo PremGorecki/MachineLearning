{
  "nbformat": 4,
  "nbformat_minor": 0,
  "metadata": {
    "colab": {
      "provenance": [],
      "authorship_tag": "ABX9TyMi0qBAYGQtPqI8R82URhRx",
      "include_colab_link": true
    },
    "kernelspec": {
      "name": "python3",
      "display_name": "Python 3"
    },
    "language_info": {
      "name": "python"
    }
  },
  "cells": [
    {
      "cell_type": "markdown",
      "metadata": {
        "id": "view-in-github",
        "colab_type": "text"
      },
      "source": [
        "<a href=\"https://colab.research.google.com/github/PremGorecki/MachineLearning/blob/main/04_krzywe_uczenia.ipynb\" target=\"_parent\"><img src=\"https://colab.research.google.com/assets/colab-badge.svg\" alt=\"Open In Colab\"/></a>"
      ]
    },
    {
      "cell_type": "code",
      "execution_count": 1,
      "metadata": {
        "id": "wzuO5u9AsTMg"
      },
      "outputs": [],
      "source": [
        "import pandas as pd\n",
        "import numpy as np\n",
        "import matplotlib.pyplot as plt"
      ]
    },
    {
      "cell_type": "code",
      "source": [
        "m = 100\n",
        "X = 6 * np.random.rand(m, 1) - 3\n",
        "y = 0.5 * X**2 + X + 2 + np.random.randn(m, 1)"
      ],
      "metadata": {
        "id": "61eVelpys778"
      },
      "execution_count": 2,
      "outputs": []
    },
    {
      "cell_type": "code",
      "source": [
        "plt.plot(X,y, \"b.\")\n",
        "plt.show()"
      ],
      "metadata": {
        "id": "8TEbXHqQTtc3"
      },
      "execution_count": null,
      "outputs": []
    },
    {
      "cell_type": "code",
      "source": [
        "from sklearn.metrics import mean_squared_error\n",
        "from sklearn.model_selection import train_test_split\n",
        "from sklearn.linear_model import LinearRegression\n",
        "\n",
        "def plot_learning_curves(model, X, y):\n",
        "  X_train, X_val, y_train, y_val = train_test_split(X, y, test_size=0.2)\n",
        "  train_errors, val_errors = [], []\n",
        "\n",
        "  for m in range(1, len(X_train)):\n",
        "    model.fit(X_train[:m], y_train[:m])\n",
        "    y_train_predict = model.predict(X_train[:m])\n",
        "    y_val_predict = model.predict(X_val)\n",
        "    train_errors.append(mean_squared_error(y_train[:m], y_train_predict))\n",
        "    val_errors.append(mean_squared_error(y_val, y_val_predict))\n",
        "    plt.plot(np.sqrt(train_errors), \"r-+\", linewidth=2, label=\"train\")\n",
        "    plt.plot(np.sqrt(val_errors), \"b-\", linewidth=3, label=\"val\")\n",
        "\n",
        "\n",
        "lin_reg = LinearRegression()\n",
        "plot_learning_curves(lin_reg, X, y)\n",
        "\n",
        "#Czerwony zestaw uczący\n",
        "#Niebieski zestaw walidacyjny\n",
        "#Model niedotrenowany - bo błąd wysoki i krzywe na siebie nachodzą"
      ],
      "metadata": {
        "id": "WLNd4quWsch-"
      },
      "execution_count": null,
      "outputs": []
    },
    {
      "cell_type": "code",
      "source": [
        "#To samo dla wielomianiu 10-go stopnia\n",
        "from sklearn.pipeline import Pipeline\n",
        "from sklearn.preprocessing import PolynomialFeatures\n",
        "\n",
        "polynomial_regression = Pipeline([\n",
        "(\"poly_features\", PolynomialFeatures(degree=10, include_bias=False)),\n",
        "(\"lin_reg\", LinearRegression()),\n",
        "])\n",
        "plot_learning_curves(polynomial_regression, X, y)"
      ],
      "metadata": {
        "id": "pajat0GMs3tJ"
      },
      "execution_count": null,
      "outputs": []
    },
    {
      "cell_type": "code",
      "source": [
        "# Przeprowadzanie regresji grzbietowej w module Scikit-Learn za pomocą\n",
        "# jawnego wzoru (odmiany równania 4.9, w której wykorzystujemy technikę faktoryzacji macierzy\n",
        "# zaprojektowaną przez André-Louisa Cholesky’ego):\n",
        "\n",
        "from sklearn.linear_model import Ridge\n",
        "ridge_reg = Ridge(alpha=1, solver=\"cholesky\")\n",
        "ridge_reg.fit(X, y)\n",
        "ridge_reg.predict([[1.5]])"
      ],
      "metadata": {
        "id": "1t7fS6hHvS3i",
        "outputId": "15f56712-ebb3-43ab-d7cd-72f33b0b482c",
        "colab": {
          "base_uri": "https://localhost:8080/"
        }
      },
      "execution_count": 5,
      "outputs": [
        {
          "output_type": "execute_result",
          "data": {
            "text/plain": [
              "array([[4.88457705]])"
            ]
          },
          "metadata": {},
          "execution_count": 5
        }
      ]
    },
    {
      "cell_type": "code",
      "source": [
        "# To samo, tym razem za pomocą stochastycznego spadku wzdłuż gradientu12\n",
        "# Hiperparametr penalty służy do wyznaczania rodzaju członu regularyzacyjnego\n",
        "from sklearn.linear_model import SGDRegressor\n",
        "sgd_reg = SGDRegressor(penalty=\"l2\")\n",
        "sgd_reg.fit(X, y.ravel())\n",
        "sgd_reg.predict([[1.5]])"
      ],
      "metadata": {
        "id": "cqXAXEWxS5_T",
        "outputId": "9d117206-d923-4d99-82fd-2588c0587f61",
        "colab": {
          "base_uri": "https://localhost:8080/"
        }
      },
      "execution_count": 7,
      "outputs": [
        {
          "output_type": "execute_result",
          "data": {
            "text/plain": [
              "array([4.85714172])"
            ]
          },
          "metadata": {},
          "execution_count": 7
        }
      ]
    },
    {
      "cell_type": "code",
      "source": [
        "# Przykład użycia klasy Lasso w module Scikit-Learn. \n",
        "# Zauważ, że możesz użyć zamiast tego klasy SGDRegressor(penalty=\"l1\")\n",
        "\n",
        "from sklearn.linear_model import Lasso\n",
        "lasso_reg = Lasso(alpha=0.1)\n",
        "lasso_reg.fit(X, y)\n",
        "lasso_reg.predict([[1.5]])"
      ],
      "metadata": {
        "id": "YYrtZJr9TacT",
        "outputId": "527fe26d-71b0-4be8-8b3d-f2718591efc2",
        "colab": {
          "base_uri": "https://localhost:8080/"
        }
      },
      "execution_count": 14,
      "outputs": [
        {
          "output_type": "execute_result",
          "data": {
            "text/plain": [
              "array([4.830857])"
            ]
          },
          "metadata": {},
          "execution_count": 14
        }
      ]
    },
    {
      "cell_type": "code",
      "source": [
        "# Przykład użycia klasy ElasticNet \n",
        "# (parametr l1_ratio odpowiada współczynnikowi proporcji r):\n",
        "from sklearn.linear_model import ElasticNet\n",
        "elastic_net = ElasticNet(alpha=0.1, l1_ratio=0.5)\n",
        "elastic_net.fit(X, y)\n",
        "elastic_net.predict([[1.5]])"
      ],
      "metadata": {
        "id": "74ymkqenV6rW",
        "outputId": "2d1eb9c9-61e3-4ee0-b141-0b9a3827db45",
        "colab": {
          "base_uri": "https://localhost:8080/"
        }
      },
      "execution_count": 15,
      "outputs": [
        {
          "output_type": "execute_result",
          "data": {
            "text/plain": [
              "array([4.8292344])"
            ]
          },
          "metadata": {},
          "execution_count": 15
        }
      ]
    },
    {
      "cell_type": "code",
      "source": [
        "# Metoda wczesnego zatrzymania\n",
        "from sklearn.preprocessing import StandardScaler\n",
        "\n",
        "# Przygotowuje dane\n",
        "poly_scaler = Pipeline([\n",
        "(\"poly_features\", PolynomialFeatures(degree=90, include_bias=False)),\n",
        "(\"std_scaler\", StandardScaler())\n",
        "])\n",
        "\n",
        "X_train_poly_scaled = poly_scaler.fit_transform(X_train)\n",
        "X_val_poly_scaled = poly_scaler.transform(X_val)\n",
        "sgd_reg = SGDRegressor(max_iter=1, tol=-np.infty, warm_start=True,\n",
        "penalty=None, learning_rate=\"constant\", eta0=0.0005)\n",
        "minimum_val_error = float(\"inf\")\n",
        "best_epoch = None\n",
        "best_model = None\n",
        "\n",
        "for epoch in range(1000):\n",
        "  sgd_reg.fit(X_train_poly_scaled, y_train) # Kontynuuje z miejsca, w którym zostało przerwane działanie\n",
        "  y_val_predict = sgd_reg.predict(X_val_poly_scaled)\n",
        "  val_error = mean_squared_error(y_val, y_val_predict)\n",
        "  if val_error < minimum_val_error:\n",
        "    minimum_val_error = val_error\n",
        "    best_epoch = epoch\n",
        "    best_model = clone(sgd_reg)"
      ],
      "metadata": {
        "id": "IgKZS35mW0jN"
      },
      "execution_count": null,
      "outputs": []
    }
  ]
}