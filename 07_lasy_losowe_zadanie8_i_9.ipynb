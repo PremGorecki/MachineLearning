{
  "nbformat": 4,
  "nbformat_minor": 0,
  "metadata": {
    "colab": {
      "provenance": [],
      "authorship_tag": "ABX9TyPnjvVG35XSFvjZIrhA0/8b",
      "include_colab_link": true
    },
    "kernelspec": {
      "name": "python3",
      "display_name": "Python 3"
    },
    "language_info": {
      "name": "python"
    }
  },
  "cells": [
    {
      "cell_type": "markdown",
      "metadata": {
        "id": "view-in-github",
        "colab_type": "text"
      },
      "source": [
        "<a href=\"https://colab.research.google.com/github/PremGorecki/MachineLearning/blob/main/07_lasy_losowe_zadanie8_i_9.ipynb\" target=\"_parent\"><img src=\"https://colab.research.google.com/assets/colab-badge.svg\" alt=\"Open In Colab\"/></a>"
      ]
    },
    {
      "cell_type": "code",
      "execution_count": null,
      "metadata": {
        "id": "RmRT3i950j04"
      },
      "outputs": [],
      "source": [
        "\"\"\" \n",
        "8 Wczytaj zbiór danych MNIST (zob. rozdział 3.) i podziel go na podzbiory uczący, walidacyjny\n",
        "i testowy (w stosunku 50 000 : 10 000 : 10 000). Następnie wytrenuj różne klasyfikatory, np. losowego\n",
        "lasu, Extra-Trees czy SVM. Teraz spróbuj połączyć je w jeden zespół (korzystając z klasyfikatora\n",
        "głosowania większościowego lub miękkiego), który będzie osiągał lepsze wyniki wobec\n",
        "zestawu walidacyjnego w stosunku do pojedynczych klasyfikatorów. Po uzyskaniu takiego\n",
        "modelu wypróbuj go na zbiorze testowym. O ile lepiej sprawuje się ten zespół w porównaniu do\n",
        "poszczególnych klasyfikatorów?\n",
        "\n",
        "Rozwiązania tych ćwiczeń znajdziesz w dodatku A.\n",
        "\"\"\""
      ]
    },
    {
      "cell_type": "code",
      "source": [
        "\"\"\"\n",
        "9. Uruchom poszczególne klasyfikatory utworzone w poprzednim ćwiczeniu w celu wyliczenia\n",
        "prognoz dla zbioru walidacyjnego, a następnie utwórz nowy zbiór danych zawierający te predykcje:\n",
        "każdy przykład uczący ma stanowić wektor przechowujący zbiór prognoz pochodzących z pojedynczych\n",
        "klasyfikatorów dla obrazu, natomiast wartością docelową niech będzie klasa obrazu\n",
        "\n",
        "Wytrenuj klasyfikator na tym nowym zestawie danych uczących. Gratulacje! Właśnie udało\n",
        "Ci się wyuczyć mikser, który wraz z klasyfikatorami tworzy zespół kontaminacji. Sprawdź teraz\n",
        "wydajność tego zespołu wobec danych testowych. Dla każdego obrazu w zbiorze testowym wylicz\n",
        "prognozy za pomocą wszystkich klasyfikatorów, a następnie prześlij wyniki do miksera, aby uzyskać\n",
        "przewidywania zespołu. Porównaj wyniki z utworzonym wcześniej klasyfikatorem głosującym\n",
        "\n",
        "Rozwiązania tych ćwiczeń znajdziesz w dodatku A.\n",
        "\n",
        "\"\"\""
      ],
      "metadata": {
        "id": "4K-omiNA0xhh"
      },
      "execution_count": null,
      "outputs": []
    },
    {
      "cell_type": "code",
      "source": [
        "# Zadanie 8\n",
        "\n",
        "import pandas as pd\n",
        "from sklearn.datasets import fetch_openml\n",
        "mnist = fetch_openml('mnist_784', version=1)\n",
        "mnist.keys()"
      ],
      "metadata": {
        "colab": {
          "base_uri": "https://localhost:8080/"
        },
        "id": "W3HGHUlSk98u",
        "outputId": "a4050d71-42f5-45f0-a041-855e04a4447f"
      },
      "execution_count": 2,
      "outputs": [
        {
          "output_type": "execute_result",
          "data": {
            "text/plain": [
              "dict_keys(['data', 'target', 'frame', 'categories', 'feature_names', 'target_names', 'DESCR', 'details', 'url'])"
            ]
          },
          "metadata": {},
          "execution_count": 2
        }
      ]
    },
    {
      "cell_type": "code",
      "source": [
        "X = mnist.data\n",
        "y = mnist.target"
      ],
      "metadata": {
        "id": "FucGeTSUlCHz"
      },
      "execution_count": 3,
      "outputs": []
    },
    {
      "cell_type": "code",
      "source": [
        "# Nie trzeba ich mieszać bo są pomieszane\n"
      ],
      "metadata": {
        "id": "o72K6aVRo-yQ"
      },
      "execution_count": 7,
      "outputs": []
    },
    {
      "cell_type": "code",
      "source": [
        "#Podział na zbiory uczący, validacyjny, testowy\n",
        "X_train, X_valid, X_test = X[:50000], X[50000:60000], X[60000:]\n",
        "y_train, y_valid, y_test = y[:50000], y[50000:60000], y[60000:]\n",
        "\n",
        "print(X_train.shape, X_valid.shape, X_test.shape)\n",
        "print(y_train.shape, y_valid.shape, y_test.shape)\n"
      ],
      "metadata": {
        "colab": {
          "base_uri": "https://localhost:8080/"
        },
        "id": "ZCiHkYLHmPg7",
        "outputId": "b7da4e56-c28e-4ef3-b9a4-f32ae67e603f"
      },
      "execution_count": 4,
      "outputs": [
        {
          "output_type": "stream",
          "name": "stdout",
          "text": [
            "(50000, 784) (10000, 784) (10000, 784)\n",
            "(50000,) (10000,) (10000,)\n"
          ]
        }
      ]
    },
    {
      "cell_type": "code",
      "source": [
        "#Random Forest\n",
        "from sklearn.ensemble import RandomForestClassifier\n",
        "\n",
        "rnd_clf = RandomForestClassifier()\n",
        "rnd_clf.fit(X_train, y_train)\n"
      ],
      "metadata": {
        "colab": {
          "base_uri": "https://localhost:8080/"
        },
        "id": "7WVHqAYQqOVe",
        "outputId": "1f326862-039f-43f1-bf55-5d312b8542e5"
      },
      "execution_count": 5,
      "outputs": [
        {
          "output_type": "execute_result",
          "data": {
            "text/plain": [
              "RandomForestClassifier()"
            ]
          },
          "metadata": {},
          "execution_count": 5
        }
      ]
    },
    {
      "cell_type": "code",
      "source": [
        "#Extra Tree\n",
        "from sklearn.ensemble import ExtraTreesClassifier\n",
        "\n",
        "ext_clf = ExtraTreesClassifier()\n",
        "ext_clf.fit(X_train, y_train)"
      ],
      "metadata": {
        "colab": {
          "base_uri": "https://localhost:8080/"
        },
        "id": "uZJ8MzUJ_TUZ",
        "outputId": "765f22fb-e6ea-4901-b28d-bcdb60169dfa"
      },
      "execution_count": 6,
      "outputs": [
        {
          "output_type": "execute_result",
          "data": {
            "text/plain": [
              "ExtraTreesClassifier()"
            ]
          },
          "metadata": {},
          "execution_count": 6
        }
      ]
    },
    {
      "cell_type": "code",
      "source": [
        "#SVC\n",
        "from sklearn.svm import SVC\n",
        "\n",
        "svc_clf = SVC()\n",
        "svc_clf.fit(X_train, y_train)"
      ],
      "metadata": {
        "colab": {
          "base_uri": "https://localhost:8080/"
        },
        "id": "-liggC7zAJDW",
        "outputId": "cc0f7591-2ee2-4e4f-fbb2-23e79cc1aa5b"
      },
      "execution_count": 7,
      "outputs": [
        {
          "output_type": "execute_result",
          "data": {
            "text/plain": [
              "SVC()"
            ]
          },
          "metadata": {},
          "execution_count": 7
        }
      ]
    },
    {
      "cell_type": "code",
      "source": [
        "#Większościowy twardy\n",
        "from sklearn.ensemble import VotingClassifier\n",
        "\n",
        "hard_voting_clf = VotingClassifier(\n",
        "estimators=[('rd', rnd_clf), ('et', ext_clf), ('svc', svc_clf)],\n",
        "voting='hard')\n",
        "hard_voting_clf.fit(X_train, y_train)\n"
      ],
      "metadata": {
        "colab": {
          "base_uri": "https://localhost:8080/"
        },
        "id": "yO9IqlzNAmtF",
        "outputId": "8a1466f0-89a6-46b5-ce48-4b8921213de1"
      },
      "execution_count": 8,
      "outputs": [
        {
          "output_type": "execute_result",
          "data": {
            "text/plain": [
              "VotingClassifier(estimators=[('rd', RandomForestClassifier()),\n",
              "                             ('et', ExtraTreesClassifier()), ('svc', SVC())])"
            ]
          },
          "metadata": {},
          "execution_count": 8
        }
      ]
    },
    {
      "cell_type": "code",
      "source": [
        "#Większościowy miękki\n",
        "soft_voting_clf = VotingClassifier(\n",
        "estimators=[('rd', rnd_clf), ('et', ext_clf), ('svc', svc_clf)],\n",
        "voting='soft')\n",
        "soft_voting_clf.fit(X_train, y_train)\n"
      ],
      "metadata": {
        "colab": {
          "base_uri": "https://localhost:8080/"
        },
        "id": "uEaUn7s3EoJN",
        "outputId": "7b061df8-ebb8-4681-ee04-5fc8d664e87c"
      },
      "execution_count": 9,
      "outputs": [
        {
          "output_type": "execute_result",
          "data": {
            "text/plain": [
              "VotingClassifier(estimators=[('rd', RandomForestClassifier()),\n",
              "                             ('et', ExtraTreesClassifier()), ('svc', SVC())],\n",
              "                 voting='soft')"
            ]
          },
          "metadata": {},
          "execution_count": 9
        }
      ]
    },
    {
      "cell_type": "code",
      "source": [
        "#Porównujem dokładności klasyfikatorów\n",
        "from sklearn.metrics import accuracy_score\n",
        "\n",
        "\n",
        "for clf in (rnd_clf, ext_clf, svc_clf, hard_voting_clf, soft_voting_clf):\n",
        "  y_pred = clf.predict(X_valid)\n",
        "  print(clf.__class__.__name__, accuracy_score(y_valid, y_pred))\n",
        "\n",
        "  "
      ],
      "metadata": {
        "id": "Qag3h0Xf_SXy"
      },
      "execution_count": null,
      "outputs": []
    },
    {
      "cell_type": "code",
      "source": [
        "#Dla najlepszego robimy "
      ],
      "metadata": {
        "id": "I7uYxZNNFfqr"
      },
      "execution_count": null,
      "outputs": []
    }
  ]
}