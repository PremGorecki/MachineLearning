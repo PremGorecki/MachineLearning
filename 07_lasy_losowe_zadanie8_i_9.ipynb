{
  "nbformat": 4,
  "nbformat_minor": 0,
  "metadata": {
    "colab": {
      "provenance": [],
      "authorship_tag": "ABX9TyPiK2l6qbHlFOuKfv0Qy2Qj",
      "include_colab_link": true
    },
    "kernelspec": {
      "name": "python3",
      "display_name": "Python 3"
    },
    "language_info": {
      "name": "python"
    }
  },
  "cells": [
    {
      "cell_type": "markdown",
      "metadata": {
        "id": "view-in-github",
        "colab_type": "text"
      },
      "source": [
        "<a href=\"https://colab.research.google.com/github/PremGorecki/MachineLearning/blob/main/07_lasy_losowe_zadanie8_i_9.ipynb\" target=\"_parent\"><img src=\"https://colab.research.google.com/assets/colab-badge.svg\" alt=\"Open In Colab\"/></a>"
      ]
    },
    {
      "cell_type": "code",
      "execution_count": null,
      "metadata": {
        "id": "RmRT3i950j04"
      },
      "outputs": [],
      "source": [
        "\"\"\" \n",
        "8 Wczytaj zbiór danych MNIST (zob. rozdział 3.) i podziel go na podzbiory uczący, walidacyjny\n",
        "i testowy (w stosunku 50 000 : 10 000 : 10 000). Następnie wytrenuj różne klasyfikatory, np. losowego\n",
        "lasu, Extra-Trees czy SVM. Teraz spróbuj połączyć je w jeden zespół (korzystając z klasyfikatora\n",
        "głosowania większościowego lub miękkiego), który będzie osiągał lepsze wyniki wobec\n",
        "zestawu walidacyjnego w stosunku do pojedynczych klasyfikatorów. Po uzyskaniu takiego\n",
        "modelu wypróbuj go na zbiorze testowym. O ile lepiej sprawuje się ten zespół w porównaniu do\n",
        "poszczególnych klasyfikatorów?\n",
        "\n",
        "Rozwiązania tych ćwiczeń znajdziesz w dodatku A.\n",
        "\"\"\""
      ]
    },
    {
      "cell_type": "code",
      "source": [
        "\"\"\"\n",
        "9. Uruchom poszczególne klasyfikatory utworzone w poprzednim ćwiczeniu w celu wyliczenia\n",
        "prognoz dla zbioru walidacyjnego, a następnie utwórz nowy zbiór danych zawierający te predykcje:\n",
        "każdy przykład uczący ma stanowić wektor przechowujący zbiór prognoz pochodzących z pojedynczych\n",
        "klasyfikatorów dla obrazu, natomiast wartością docelową niech będzie klasa obrazu\n",
        "\n",
        "Wytrenuj klasyfikator na tym nowym zestawie danych uczących. Gratulacje! Właśnie udało\n",
        "Ci się wyuczyć mikser, który wraz z klasyfikatorami tworzy zespół kontaminacji. Sprawdź teraz\n",
        "wydajność tego zespołu wobec danych testowych. Dla każdego obrazu w zbiorze testowym wylicz\n",
        "prognozy za pomocą wszystkich klasyfikatorów, a następnie prześlij wyniki do miksera, aby uzyskać\n",
        "przewidywania zespołu. Porównaj wyniki z utworzonym wcześniej klasyfikatorem głosującym\n",
        "\n",
        "Rozwiązania tych ćwiczeń znajdziesz w dodatku A.\n",
        "\n",
        "\"\"\""
      ],
      "metadata": {
        "id": "4K-omiNA0xhh"
      },
      "execution_count": null,
      "outputs": []
    },
    {
      "cell_type": "code",
      "source": [
        "# Zadanie 8\n",
        "\n",
        "import pandas as pd\n",
        "from sklearn.datasets import fetch_openml\n",
        "mnist = fetch_openml('mnist_784', version=1)\n",
        "mnist.keys()"
      ],
      "metadata": {
        "colab": {
          "base_uri": "https://localhost:8080/"
        },
        "id": "W3HGHUlSk98u",
        "outputId": "9abc5ca9-9eef-4522-d5f3-e4001d7f6dfd"
      },
      "execution_count": 11,
      "outputs": [
        {
          "output_type": "execute_result",
          "data": {
            "text/plain": [
              "dict_keys(['data', 'target', 'frame', 'categories', 'feature_names', 'target_names', 'DESCR', 'details', 'url'])"
            ]
          },
          "metadata": {},
          "execution_count": 11
        }
      ]
    },
    {
      "cell_type": "code",
      "source": [
        "X = mnist.data\n",
        "y = mnist.target"
      ],
      "metadata": {
        "id": "FucGeTSUlCHz"
      },
      "execution_count": null,
      "outputs": []
    },
    {
      "cell_type": "code",
      "source": [
        "# Nie trzeba ich mieszać bo są pomieszane\n"
      ],
      "metadata": {
        "id": "o72K6aVRo-yQ"
      },
      "execution_count": null,
      "outputs": []
    },
    {
      "cell_type": "code",
      "source": [
        "#Podział na zbiory uczący, validacyjny, testowy\n",
        "X_train, X_valid, X_test = X[:50000], X[50000:60000], X[60000:]\n",
        "y_train, y_valid, y_test = y[:50000], y[50000:60000], y[60000:]\n",
        "\n",
        "print(X_train.shape, X_valid.shape, X_test.shape)\n",
        "print(y_train.shape, y_valid.shape, y_test.shape)\n"
      ],
      "metadata": {
        "colab": {
          "base_uri": "https://localhost:8080/"
        },
        "id": "ZCiHkYLHmPg7",
        "outputId": "b7da4e56-c28e-4ef3-b9a4-f32ae67e603f"
      },
      "execution_count": null,
      "outputs": [
        {
          "output_type": "stream",
          "name": "stdout",
          "text": [
            "(50000, 784) (10000, 784) (10000, 784)\n",
            "(50000,) (10000,) (10000,)\n"
          ]
        }
      ]
    },
    {
      "cell_type": "code",
      "source": [
        "# Inny podział\n",
        "from sklearn.model_selection import train_test_split\n",
        "\n",
        "X_train_val, X_test, y_train_val, y_test = train_test_split(X, y, test_size=10000, random_state=69)\n",
        "X_train, X_val, y_train, y_val = train_test_split(X_train_val, y_train_val, test_size=10000, random_state=69)\n",
        "\n",
        "print(X_train.shape, X_valid.shape, X_test.shape)\n",
        "print(y_train.shape, y_valid.shape, y_test.shape)"
      ],
      "metadata": {
        "colab": {
          "base_uri": "https://localhost:8080/"
        },
        "id": "9larGB2hKs9_",
        "outputId": "b201e15f-8dae-4302-ec1a-7a57d6bcfc12"
      },
      "execution_count": 13,
      "outputs": [
        {
          "output_type": "stream",
          "name": "stdout",
          "text": [
            "(50000, 784) (10000, 784) (10000, 784)\n",
            "(50000,) (10000,) (10000,)\n"
          ]
        }
      ]
    },
    {
      "cell_type": "code",
      "source": [
        "#Trenujemy różne klasyfikatory\n",
        "from sklearn.ensemble import RandomForestClassifier #Random Forest\n",
        "from sklearn.ensemble import ExtraTreesClassifier   #Extra Trees\n",
        "from sklearn.svm import LinearSVC                   #SVC\n",
        "# spróbować na tym from sklearn.svm import SVC\n",
        "from sklearn.neural_network import MLPClassifier    #MLP\n",
        "\n",
        "rnd_clf = RandomForestClassifier(n_estimators=100, random_state=69)\n",
        "ext_clf = ExtraTreesClassifier(n_estimators=100, random_state=69)\n",
        "svc_clf = LinearSVC(random_state=69)\n",
        "mlp_clf = MLPClassifier(random_state=69)\n"
      ],
      "metadata": {
        "id": "7WVHqAYQqOVe"
      },
      "execution_count": 14,
      "outputs": []
    },
    {
      "cell_type": "code",
      "source": [
        "#Trenujemy\n",
        "\n",
        "estimators = [rnd_clf, ext_clf, svc_clf, mlp_clf]\n",
        "\n",
        "for estimator in estimators:\n",
        "  print(\"Trenowany estymator: \", estimator)\n",
        "  estimator.fit(X_train, y_train)"
      ],
      "metadata": {
        "colab": {
          "base_uri": "https://localhost:8080/"
        },
        "id": "RY9jRK4pNKZT",
        "outputId": "adc1dc3b-1fa0-43d4-a244-09817712cf5e"
      },
      "execution_count": 15,
      "outputs": [
        {
          "output_type": "stream",
          "name": "stdout",
          "text": [
            "Trenowany estymator:  RandomForestClassifier(random_state=69)\n",
            "Trenowany estymator:  ExtraTreesClassifier(random_state=69)\n",
            "Trenowany estymator:  LinearSVC(random_state=69)\n"
          ]
        },
        {
          "output_type": "stream",
          "name": "stderr",
          "text": [
            "/usr/local/lib/python3.7/dist-packages/sklearn/svm/_base.py:1208: ConvergenceWarning: Liblinear failed to converge, increase the number of iterations.\n",
            "  ConvergenceWarning,\n"
          ]
        },
        {
          "output_type": "stream",
          "name": "stdout",
          "text": [
            "Trenowany estymator:  MLPClassifier(random_state=69)\n"
          ]
        }
      ]
    },
    {
      "cell_type": "code",
      "source": [
        "#Jaki wyniki osiągnęły\n",
        "\n",
        "for estimator in estimators:\n",
        "  print(estimator, \": \", estimator.score(X_val, y_val))"
      ],
      "metadata": {
        "colab": {
          "base_uri": "https://localhost:8080/"
        },
        "id": "49wUBhWzOMC1",
        "outputId": "64f40b21-4943-4dac-acf5-e5720e920b54"
      },
      "execution_count": 16,
      "outputs": [
        {
          "output_type": "stream",
          "name": "stdout",
          "text": [
            "RandomForestClassifier(random_state=69) :  0.969\n",
            "ExtraTreesClassifier(random_state=69) :  0.9708\n",
            "LinearSVC(random_state=69) :  0.8723\n",
            "MLPClassifier(random_state=69) :  0.9646\n"
          ]
        }
      ]
    },
    {
      "cell_type": "code",
      "source": [
        "#Większościowy twardy\n",
        "from sklearn.ensemble import VotingClassifier\n",
        "\n",
        "hard_voting_clf = VotingClassifier(\n",
        "        estimators=[('rd',  rnd_clf), \n",
        "                    ('et',  ext_clf), \n",
        "                    ('svc', svc_clf),\n",
        "                    ('mlp', mlp_clf)],\n",
        "        voting='hard')\n",
        "hard_voting_clf.fit(X_train, y_train)\n"
      ],
      "metadata": {
        "colab": {
          "base_uri": "https://localhost:8080/"
        },
        "id": "yO9IqlzNAmtF",
        "outputId": "351848ba-1c00-4a37-ae48-c5c68838a2b6"
      },
      "execution_count": 19,
      "outputs": [
        {
          "output_type": "stream",
          "name": "stderr",
          "text": [
            "/usr/local/lib/python3.7/dist-packages/sklearn/svm/_base.py:1208: ConvergenceWarning: Liblinear failed to converge, increase the number of iterations.\n",
            "  ConvergenceWarning,\n"
          ]
        },
        {
          "output_type": "execute_result",
          "data": {
            "text/plain": [
              "VotingClassifier(estimators=[('rd', RandomForestClassifier(random_state=69)),\n",
              "                             ('et', ExtraTreesClassifier(random_state=69)),\n",
              "                             ('svc', LinearSVC(random_state=69)),\n",
              "                             ('mlp', MLPClassifier(random_state=69))])"
            ]
          },
          "metadata": {},
          "execution_count": 19
        }
      ]
    },
    {
      "cell_type": "code",
      "source": [
        "print(hard_voting_clf, \": \", hard_voting_clf.score(X_val, y_val))"
      ],
      "metadata": {
        "colab": {
          "base_uri": "https://localhost:8080/"
        },
        "id": "cjShM-n8SFVp",
        "outputId": "2d7de3eb-64c6-44d1-e4f2-4fb6941ebc50"
      },
      "execution_count": 20,
      "outputs": [
        {
          "output_type": "stream",
          "name": "stdout",
          "text": [
            "VotingClassifier(estimators=[('rd', RandomForestClassifier(random_state=69)),\n",
            "                             ('et', ExtraTreesClassifier(random_state=69)),\n",
            "                             ('svc', LinearSVC(random_state=69)),\n",
            "                             ('mlp', MLPClassifier(random_state=69))]) :  0.9714\n"
          ]
        }
      ]
    },
    {
      "cell_type": "code",
      "source": [
        "#Większościowy miękki\n",
        "soft_voting_clf = VotingClassifier(\n",
        "estimators=[('rd',  rnd_clf), \n",
        "            ('et',  ext_clf), \n",
        "          #  ('svc', svc_clf,),\n",
        "            ('mlp', mlp_clf)],\n",
        "voting='soft')\n",
        "soft_voting_clf.fit(X_train, y_train)\n"
      ],
      "metadata": {
        "colab": {
          "base_uri": "https://localhost:8080/"
        },
        "id": "uEaUn7s3EoJN",
        "outputId": "77acc661-8674-4256-f66e-562efe02a609"
      },
      "execution_count": 27,
      "outputs": [
        {
          "output_type": "execute_result",
          "data": {
            "text/plain": [
              "VotingClassifier(estimators=[('rd', RandomForestClassifier(random_state=69)),\n",
              "                             ('et', ExtraTreesClassifier(random_state=69)),\n",
              "                             ('mlp', MLPClassifier(random_state=69))],\n",
              "                 voting='soft')"
            ]
          },
          "metadata": {},
          "execution_count": 27
        }
      ]
    },
    {
      "cell_type": "code",
      "source": [
        "print(soft_voting_clf, \": \", soft_voting_clf.score(X_val, y_val))"
      ],
      "metadata": {
        "colab": {
          "base_uri": "https://localhost:8080/"
        },
        "id": "lXKnPY3FSafu",
        "outputId": "a32cc34b-f234-43a2-b239-b863982d8697"
      },
      "execution_count": 28,
      "outputs": [
        {
          "output_type": "stream",
          "name": "stdout",
          "text": [
            "VotingClassifier(estimators=[('rd', RandomForestClassifier(random_state=69)),\n",
            "                             ('et', ExtraTreesClassifier(random_state=69)),\n",
            "                             ('mlp', MLPClassifier(random_state=69))],\n",
            "                 voting='soft') :  0.9701\n"
          ]
        }
      ]
    },
    {
      "cell_type": "code",
      "source": [
        "# Najlepszy jest VotingClassifier z HARD głosowanie to sprawdźmy go na danych testowych\n",
        "\n",
        "print(hard_voting_clf, \": \", hard_voting_clf.score(X_test, y_test))\n",
        "\n"
      ],
      "metadata": {
        "id": "I7uYxZNNFfqr",
        "colab": {
          "base_uri": "https://localhost:8080/"
        },
        "outputId": "3da0d674-da53-4ad3-fe41-a5e0c26e19d7"
      },
      "execution_count": 29,
      "outputs": [
        {
          "output_type": "stream",
          "name": "stdout",
          "text": [
            "VotingClassifier(estimators=[('rd', RandomForestClassifier(random_state=69)),\n",
            "                             ('et', ExtraTreesClassifier(random_state=69)),\n",
            "                             ('svc', LinearSVC(random_state=69)),\n",
            "                             ('mlp', MLPClassifier(random_state=69))]) :  0.968\n"
          ]
        }
      ]
    },
    {
      "cell_type": "code",
      "source": [
        "# Pozostałe na danych testowych\n",
        "for estimator in estimators:\n",
        "  print(estimator, \": \", estimator.score(X_test, y_test))"
      ],
      "metadata": {
        "colab": {
          "base_uri": "https://localhost:8080/"
        },
        "id": "HQp0BfzCe62w",
        "outputId": "f21859ca-51bd-498a-b4bf-ff5371db97c7"
      },
      "execution_count": 30,
      "outputs": [
        {
          "output_type": "stream",
          "name": "stdout",
          "text": [
            "RandomForestClassifier(random_state=69) :  0.9656\n",
            "ExtraTreesClassifier(random_state=69) :  0.9691\n",
            "LinearSVC(random_state=69) :  0.8737\n",
            "MLPClassifier(random_state=69) :  0.9598\n"
          ]
        }
      ]
    },
    {
      "cell_type": "code",
      "source": [],
      "metadata": {
        "id": "DTse9uSnfD5a"
      },
      "execution_count": null,
      "outputs": []
    }
  ]
}