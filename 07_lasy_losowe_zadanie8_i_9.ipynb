{
  "nbformat": 4,
  "nbformat_minor": 0,
  "metadata": {
    "colab": {
      "provenance": [],
      "authorship_tag": "ABX9TyMPfafEd1iGrib9pzb0fvlc",
      "include_colab_link": true
    },
    "kernelspec": {
      "name": "python3",
      "display_name": "Python 3"
    },
    "language_info": {
      "name": "python"
    }
  },
  "cells": [
    {
      "cell_type": "markdown",
      "metadata": {
        "id": "view-in-github",
        "colab_type": "text"
      },
      "source": [
        "<a href=\"https://colab.research.google.com/github/PremGorecki/MachineLearning/blob/main/07_lasy_losowe_zadanie8_i_9.ipynb\" target=\"_parent\"><img src=\"https://colab.research.google.com/assets/colab-badge.svg\" alt=\"Open In Colab\"/></a>"
      ]
    },
    {
      "cell_type": "code",
      "execution_count": null,
      "metadata": {
        "id": "RmRT3i950j04"
      },
      "outputs": [],
      "source": [
        "\"\"\" \n",
        "8 Wczytaj zbiór danych MNIST (zob. rozdział 3.) i podziel go na podzbiory uczący, walidacyjny\n",
        "i testowy (w stosunku 50 000 : 10 000 : 10 000). Następnie wytrenuj różne klasyfikatory, np. losowego\n",
        "lasu, Extra-Trees czy SVM. Teraz spróbuj połączyć je w jeden zespół (korzystając z klasyfikatora\n",
        "głosowania większościowego lub miękkiego), który będzie osiągał lepsze wyniki wobec\n",
        "zestawu walidacyjnego w stosunku do pojedynczych klasyfikatorów. Po uzyskaniu takiego\n",
        "modelu wypróbuj go na zbiorze testowym. O ile lepiej sprawuje się ten zespół w porównaniu do\n",
        "poszczególnych klasyfikatorów?\n",
        "\n",
        "Rozwiązania tych ćwiczeń znajdziesz w dodatku A.\n",
        "\"\"\""
      ]
    },
    {
      "cell_type": "code",
      "source": [
        "\"\"\"\n",
        "9. Uruchom poszczególne klasyfikatory utworzone w poprzednim ćwiczeniu w celu wyliczenia\n",
        "prognoz dla zbioru walidacyjnego, a następnie utwórz nowy zbiór danych zawierający te predykcje:\n",
        "każdy przykład uczący ma stanowić wektor przechowujący zbiór prognoz pochodzących z pojedynczych\n",
        "klasyfikatorów dla obrazu, natomiast wartością docelową niech będzie klasa obrazu\n",
        "\n",
        "Wytrenuj klasyfikator na tym nowym zestawie danych uczących. Gratulacje! Właśnie udało\n",
        "Ci się wyuczyć mikser, który wraz z klasyfikatorami tworzy zespół kontaminacji. Sprawdź teraz\n",
        "wydajność tego zespołu wobec danych testowych. Dla każdego obrazu w zbiorze testowym wylicz\n",
        "prognozy za pomocą wszystkich klasyfikatorów, a następnie prześlij wyniki do miksera, aby uzyskać\n",
        "przewidywania zespołu. Porównaj wyniki z utworzonym wcześniej klasyfikatorem głosującym\n",
        "\n",
        "Rozwiązania tych ćwiczeń znajdziesz w dodatku A.\n",
        "\n",
        "\"\"\""
      ],
      "metadata": {
        "id": "4K-omiNA0xhh"
      },
      "execution_count": null,
      "outputs": []
    }
  ]
}