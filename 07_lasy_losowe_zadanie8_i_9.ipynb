{
  "nbformat": 4,
  "nbformat_minor": 0,
  "metadata": {
    "colab": {
      "provenance": [],
      "authorship_tag": "ABX9TyNKuWQp+ycNomidk1qyrdPw",
      "include_colab_link": true
    },
    "kernelspec": {
      "name": "python3",
      "display_name": "Python 3"
    },
    "language_info": {
      "name": "python"
    }
  },
  "cells": [
    {
      "cell_type": "markdown",
      "metadata": {
        "id": "view-in-github",
        "colab_type": "text"
      },
      "source": [
        "<a href=\"https://colab.research.google.com/github/PremGorecki/MachineLearning/blob/main/07_lasy_losowe_zadanie8_i_9.ipynb\" target=\"_parent\"><img src=\"https://colab.research.google.com/assets/colab-badge.svg\" alt=\"Open In Colab\"/></a>"
      ]
    },
    {
      "cell_type": "code",
      "execution_count": null,
      "metadata": {
        "id": "RmRT3i950j04"
      },
      "outputs": [],
      "source": [
        "\"\"\" \n",
        "8 Wczytaj zbiór danych MNIST (zob. rozdział 3.) i podziel go na podzbiory uczący, walidacyjny\n",
        "i testowy (w stosunku 50 000 : 10 000 : 10 000). Następnie wytrenuj różne klasyfikatory, np. losowego\n",
        "lasu, Extra-Trees czy SVM. Teraz spróbuj połączyć je w jeden zespół (korzystając z klasyfikatora\n",
        "głosowania większościowego lub miękkiego), który będzie osiągał lepsze wyniki wobec\n",
        "zestawu walidacyjnego w stosunku do pojedynczych klasyfikatorów. Po uzyskaniu takiego\n",
        "modelu wypróbuj go na zbiorze testowym. O ile lepiej sprawuje się ten zespół w porównaniu do\n",
        "poszczególnych klasyfikatorów?\n",
        "\n",
        "Rozwiązania tych ćwiczeń znajdziesz w dodatku A.\n",
        "\"\"\""
      ]
    },
    {
      "cell_type": "code",
      "source": [
        "\"\"\"\n",
        "9. Uruchom poszczególne klasyfikatory utworzone w poprzednim ćwiczeniu w celu wyliczenia\n",
        "prognoz dla zbioru walidacyjnego, a następnie utwórz nowy zbiór danych zawierający te predykcje:\n",
        "każdy przykład uczący ma stanowić wektor przechowujący zbiór prognoz pochodzących z pojedynczych\n",
        "klasyfikatorów dla obrazu, natomiast wartością docelową niech będzie klasa obrazu\n",
        "\n",
        "Wytrenuj klasyfikator na tym nowym zestawie danych uczących. Gratulacje! Właśnie udało\n",
        "Ci się wyuczyć mikser, który wraz z klasyfikatorami tworzy zespół kontaminacji. Sprawdź teraz\n",
        "wydajność tego zespołu wobec danych testowych. Dla każdego obrazu w zbiorze testowym wylicz\n",
        "prognozy za pomocą wszystkich klasyfikatorów, a następnie prześlij wyniki do miksera, aby uzyskać\n",
        "przewidywania zespołu. Porównaj wyniki z utworzonym wcześniej klasyfikatorem głosującym\n",
        "\n",
        "Rozwiązania tych ćwiczeń znajdziesz w dodatku A.\n",
        "\n",
        "\"\"\""
      ],
      "metadata": {
        "id": "4K-omiNA0xhh"
      },
      "execution_count": null,
      "outputs": []
    },
    {
      "cell_type": "code",
      "source": [
        "# Zadanie 8\n",
        "\n",
        "import pandas as pd\n",
        "from sklearn.datasets import fetch_openml\n",
        "mnist = fetch_openml('mnist_784', version=1)\n",
        "mnist.keys()"
      ],
      "metadata": {
        "colab": {
          "base_uri": "https://localhost:8080/"
        },
        "id": "W3HGHUlSk98u",
        "outputId": "1933a90d-6e2b-4351-b395-340bb5f0d2c1"
      },
      "execution_count": 2,
      "outputs": [
        {
          "output_type": "execute_result",
          "data": {
            "text/plain": [
              "dict_keys(['data', 'target', 'frame', 'categories', 'feature_names', 'target_names', 'DESCR', 'details', 'url'])"
            ]
          },
          "metadata": {},
          "execution_count": 2
        }
      ]
    },
    {
      "cell_type": "code",
      "source": [
        "X = mnist.data\n",
        "y = mnist.target"
      ],
      "metadata": {
        "id": "FucGeTSUlCHz"
      },
      "execution_count": 13,
      "outputs": []
    },
    {
      "cell_type": "code",
      "source": [
        "# Sprawdzić jak można przetasować\n",
        "#X = X.sample(frac=1)"
      ],
      "metadata": {
        "id": "o72K6aVRo-yQ"
      },
      "execution_count": null,
      "outputs": []
    },
    {
      "cell_type": "code",
      "source": [
        "#Podział na zbiory uczący, validacyjny, testowy\n",
        "X_train, X_valid, X_test = X[:50000], X[50000:60000], X[60000:]\n",
        "y_train, y_valid, y_test = y[:50000], y[50000:60000], y[60000:]\n",
        "\n",
        "print(X_train.shape, X_valid.shape, X_test.shape)\n",
        "print(y_train.shape, y_valid.shape, y_test.shape)\n"
      ],
      "metadata": {
        "colab": {
          "base_uri": "https://localhost:8080/"
        },
        "id": "ZCiHkYLHmPg7",
        "outputId": "0ab99f74-f06e-42c3-d177-fa57d2930dd9"
      },
      "execution_count": 9,
      "outputs": [
        {
          "output_type": "stream",
          "name": "stdout",
          "text": [
            "(50000, 784) (10000, 784) (10000, 784)\n",
            "(50000,) (10000,) (10000,)\n"
          ]
        }
      ]
    },
    {
      "cell_type": "code",
      "source": [],
      "metadata": {
        "id": "xQdrbjSonMNQ"
      },
      "execution_count": null,
      "outputs": []
    }
  ]
}