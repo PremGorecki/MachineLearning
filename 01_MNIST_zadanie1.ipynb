{
  "nbformat": 4,
  "nbformat_minor": 0,
  "metadata": {
    "colab": {
      "provenance": [],
      "collapsed_sections": [],
      "authorship_tag": "ABX9TyNvJWesFZscOY0fcej+BEVb",
      "include_colab_link": true
    },
    "kernelspec": {
      "name": "python3",
      "display_name": "Python 3"
    },
    "language_info": {
      "name": "python"
    },
    "accelerator": "GPU"
  },
  "cells": [
    {
      "cell_type": "markdown",
      "metadata": {
        "id": "view-in-github",
        "colab_type": "text"
      },
      "source": [
        "<a href=\"https://colab.research.google.com/github/PremGorecki/MachineLearning/blob/main/01_MNIST_zadanie1.ipynb\" target=\"_parent\"><img src=\"https://colab.research.google.com/assets/colab-badge.svg\" alt=\"Open In Colab\"/></a>"
      ]
    },
    {
      "cell_type": "markdown",
      "source": [
        "Spróbuj stworzyć klasyfikator zbioru danych MNIST osiągający ponad 97% dokładności dla zbioru testowego. Podpowiedź: całkiem nieźle sprawdza się klasyfikator **KNeighborsClassifier**;\n",
        "musisz tylko dobrać odpowiednie wartości hiperparametrów (zastosuj metodę przeszukiwaniasiatki wobec hiperparametrów \n",
        "**weights in_neighbors**)."
      ],
      "metadata": {
        "id": "5oBgu_twqsa7"
      }
    },
    {
      "cell_type": "code",
      "source": [
        "#Import libraries\n",
        "import pandas as pd\n",
        "import numpy as np\n",
        "\n",
        "#import matplotlib as mpl\n",
        "import matplotlib.pyplot as plt\n",
        "\n",
        "\n",
        "from sklearn.model_selection import cross_val_score\n",
        "from sklearn.model_selection import cross_val_predict\n",
        "\n",
        "from sklearn.metrics import precision_score, recall_score\n",
        "from sklearn.metrics import confusion_matrix\n",
        "from sklearn.metrics import f1_score\n"
      ],
      "metadata": {
        "id": "OzYCrTQH55Ed"
      },
      "execution_count": 81,
      "outputs": []
    },
    {
      "cell_type": "code",
      "execution_count": 2,
      "metadata": {
        "id": "XIx6HqMNk9Xi",
        "outputId": "f08cd1fb-8273-442e-96eb-774786adc5a0",
        "colab": {
          "base_uri": "https://localhost:8080/"
        }
      },
      "outputs": [
        {
          "output_type": "execute_result",
          "data": {
            "text/plain": [
              "dict_keys(['data', 'target', 'frame', 'categories', 'feature_names', 'target_names', 'DESCR', 'details', 'url'])"
            ]
          },
          "metadata": {},
          "execution_count": 2
        }
      ],
      "source": [
        "\n",
        "#Import data\n",
        "from sklearn.datasets import fetch_openml\n",
        "mnist = fetch_openml('mnist_784', version=1)\n",
        "mnist.keys()\n",
        "\n",
        "\n"
      ]
    },
    {
      "cell_type": "code",
      "source": [
        "X, y = mnist[\"data\"], mnist[\"target\"]\n",
        "X.shape\n"
      ],
      "metadata": {
        "id": "xyROf1z51TNy",
        "outputId": "36ded0bc-e963-4fa7-b3a5-c3309f15c1e0",
        "colab": {
          "base_uri": "https://localhost:8080/"
        }
      },
      "execution_count": 3,
      "outputs": [
        {
          "output_type": "execute_result",
          "data": {
            "text/plain": [
              "(70000, 784)"
            ]
          },
          "metadata": {},
          "execution_count": 3
        }
      ]
    },
    {
      "cell_type": "code",
      "source": [
        "y.shape"
      ],
      "metadata": {
        "id": "CBldz0ro12SI",
        "outputId": "62896aee-5f2c-41a1-bc15-7a31918feb04",
        "colab": {
          "base_uri": "https://localhost:8080/"
        }
      },
      "execution_count": 4,
      "outputs": [
        {
          "output_type": "execute_result",
          "data": {
            "text/plain": [
              "(70000,)"
            ]
          },
          "metadata": {},
          "execution_count": 4
        }
      ]
    },
    {
      "cell_type": "code",
      "source": [
        "#How one digit looks like\n",
        "\n",
        "some_digit = X.iloc[2]\n",
        "some_digit = np.array(some_digit)\n",
        "\n",
        "some_digit_image = some_digit.reshape(28, 28)\n",
        "plt.imshow(some_digit_image, cmap = \"binary\")\n",
        "plt.axis(\"off\")\n",
        "plt.show()\n",
        "\n"
      ],
      "metadata": {
        "id": "6Xb6Q33L126b",
        "outputId": "6ecbc262-c056-4d3a-8559-4c7bfbff021a",
        "colab": {
          "base_uri": "https://localhost:8080/",
          "height": 248
        }
      },
      "execution_count": 5,
      "outputs": [
        {
          "output_type": "display_data",
          "data": {
            "text/plain": [
              "<Figure size 432x288 with 1 Axes>"
            ],
            "image/png": "[encoded data removed]"
          },
          "metadata": {
            "needs_background": "light"
          }
        }
      ]
    },
    {
      "cell_type": "code",
      "source": [
        "y[2]"
      ],
      "metadata": {
        "id": "scA7fYAa8NNv",
        "outputId": "861e224e-7ff3-4723-dc66-621a0a78b4c0",
        "colab": {
          "base_uri": "https://localhost:8080/",
          "height": 36
        }
      },
      "execution_count": 6,
      "outputs": [
        {
          "output_type": "execute_result",
          "data": {
            "text/plain": [
              "'4'"
            ],
            "application/vnd.google.colaboratory.intrinsic+json": {
              "type": "string"
            }
          },
          "metadata": {},
          "execution_count": 6
        }
      ]
    },
    {
      "cell_type": "code",
      "source": [
        "# Y is String so let's convert it to Int\n",
        "y = y.astype(np.uint8)"
      ],
      "metadata": {
        "id": "FN9KbK6Ru9lT"
      },
      "execution_count": 7,
      "outputs": []
    },
    {
      "cell_type": "code",
      "source": [
        "y[2]"
      ],
      "metadata": {
        "id": "8uXz4L6tvk4m",
        "outputId": "e1d57ac0-e2bf-405c-d69e-2ab92f2a3210",
        "colab": {
          "base_uri": "https://localhost:8080/"
        }
      },
      "execution_count": 8,
      "outputs": [
        {
          "output_type": "execute_result",
          "data": {
            "text/plain": [
              "4"
            ]
          },
          "metadata": {},
          "execution_count": 8
        }
      ]
    },
    {
      "cell_type": "code",
      "source": [
        "# Split into train and test datasets\n",
        "X_train, X_test, y_train, y_test = X[:60000], X[60000:], y[:60000], y[60000:]"
      ],
      "metadata": {
        "id": "uNYiqStevqDp"
      },
      "execution_count": 57,
      "outputs": []
    },
    {
      "cell_type": "code",
      "source": [
        "# Try KNeighborsClassifier\n",
        "from sklearn.neighbors import KNeighborsClassifier\n",
        "kn_clf = KNeighborsClassifier()\n",
        "kn_clf.fit(X_train, y_train)"
      ],
      "metadata": {
        "id": "Zjrlqy9SyLlZ",
        "outputId": "933cb6e6-e5ed-43fd-9395-fe8e539b3590",
        "colab": {
          "base_uri": "https://localhost:8080/"
        }
      },
      "execution_count": 61,
      "outputs": [
        {
          "output_type": "execute_result",
          "data": {
            "text/plain": [
              "KNeighborsClassifier()"
            ]
          },
          "metadata": {},
          "execution_count": 61
        }
      ]
    },
    {
      "cell_type": "code",
      "source": [
        "kn_clf.predict([some_digit])"
      ],
      "metadata": {
        "id": "J6iyEsZ3zALA",
        "outputId": "d4a992dc-4f2e-4e5c-cd05-0fd0e6399433",
        "colab": {
          "base_uri": "https://localhost:8080/"
        }
      },
      "execution_count": 62,
      "outputs": [
        {
          "output_type": "stream",
          "name": "stderr",
          "text": [
            "/usr/local/lib/python3.7/dist-packages/sklearn/base.py:451: UserWarning: X does not have valid feature names, but KNeighborsClassifier was fitted with feature names\n",
            "  \"X does not have valid feature names, but\"\n"
          ]
        },
        {
          "output_type": "execute_result",
          "data": {
            "text/plain": [
              "array([4], dtype=uint8)"
            ]
          },
          "metadata": {},
          "execution_count": 62
        }
      ]
    },
    {
      "cell_type": "code",
      "source": [
        "#Check metric for test data \n",
        "#cross_val_score(kn_clf, X_train, y_train, cv=3, scoring=\"accuracy\")"
      ],
      "metadata": {
        "id": "I4JteYvxtJHA"
      },
      "execution_count": 12,
      "outputs": []
    },
    {
      "cell_type": "code",
      "source": [
        "#Check metrics for test and train data\n",
        "\n",
        "y_train_pred = kn_clf.predict(X_train)\n",
        "y_train_pred\n"
      ],
      "metadata": {
        "id": "jiNhNioW53VD",
        "outputId": "cd9c29a2-c3db-42bf-a921-3673887944d3",
        "colab": {
          "base_uri": "https://localhost:8080/"
        }
      },
      "execution_count": 66,
      "outputs": [
        {
          "output_type": "execute_result",
          "data": {
            "text/plain": [
              "array([7, 2, 1, ..., 4, 5, 6], dtype=uint8)"
            ]
          },
          "metadata": {},
          "execution_count": 66
        }
      ]
    },
    {
      "cell_type": "code",
      "source": [
        "y_test_pred = kn_clf.predict(X_test)\n",
        "y_test_pred"
      ],
      "metadata": {
        "id": "FGmxKcT2V0Bg",
        "outputId": "69bee1e2-0959-4d66-ec4a-441d580d9e33",
        "colab": {
          "base_uri": "https://localhost:8080/"
        }
      },
      "execution_count": 67,
      "outputs": [
        {
          "output_type": "execute_result",
          "data": {
            "text/plain": [
              "array([7, 2, 1, ..., 4, 5, 6], dtype=uint8)"
            ]
          },
          "metadata": {},
          "execution_count": 67
        }
      ]
    },
    {
      "cell_type": "code",
      "source": [
        "# Confusion matrix for train data\n",
        "confusion_matrix(y_train, y_train_pred)"
      ],
      "metadata": {
        "id": "wLvSkwGsWUKE",
        "outputId": "ea6c95e1-d258-46bd-8dee-e03df68cdba4",
        "colab": {
          "base_uri": "https://localhost:8080/"
        }
      },
      "execution_count": 68,
      "outputs": [
        {
          "output_type": "execute_result",
          "data": {
            "text/plain": [
              "array([[5893,    4,    2,    0,    1,    4,   14,    2,    1,    2],\n",
              "       [   1, 6721,    7,    0,    0,    0,    1,    9,    1,    2],\n",
              "       [  24,   36, 5821,   10,    7,    4,    6,   41,    6,    3],\n",
              "       [   2,   12,   26, 6001,    0,   34,    2,   21,   17,   16],\n",
              "       [   3,   39,    1,    1, 5724,    0,    6,    5,    2,   61],\n",
              "       [  13,    5,    3,   35,    5, 5302,   38,    3,    3,   14],\n",
              "       [  11,    9,    0,    0,    4,   12, 5882,    0,    0,    0],\n",
              "       [   1,   46,   10,    2,    7,    0,    0, 6165,    0,   34],\n",
              "       [  15,   59,   10,   40,   20,   51,   14,   11, 5591,   40],\n",
              "       [  10,    6,    5,   22,   34,    9,    2,   39,    7, 5815]])"
            ]
          },
          "metadata": {},
          "execution_count": 68
        }
      ]
    },
    {
      "cell_type": "code",
      "source": [
        "# This conversion is not necessary\n",
        "y_test1 = np.array(y_test)\n",
        "y_test1"
      ],
      "metadata": {
        "id": "vo338Reg-UAz",
        "outputId": "006332f0-6e6c-4f0e-c712-bb6712fdafd6",
        "colab": {
          "base_uri": "https://localhost:8080/"
        }
      },
      "execution_count": 86,
      "outputs": [
        {
          "output_type": "execute_result",
          "data": {
            "text/plain": [
              "array([7, 2, 1, ..., 4, 5, 6], dtype=uint8)"
            ]
          },
          "metadata": {},
          "execution_count": 86
        }
      ]
    },
    {
      "cell_type": "code",
      "source": [
        "# Confusion matrix for test data\n",
        "confusion_matrix(y_test, y_test_pred)"
      ],
      "metadata": {
        "id": "shn_vJoS_Qec",
        "outputId": "e857d6c5-0304-460e-f16d-9046deb0de16",
        "colab": {
          "base_uri": "https://localhost:8080/"
        }
      },
      "execution_count": 69,
      "outputs": [
        {
          "output_type": "execute_result",
          "data": {
            "text/plain": [
              "array([[ 974,    1,    1,    0,    0,    1,    2,    1,    0,    0],\n",
              "       [   0, 1133,    2,    0,    0,    0,    0,    0,    0,    0],\n",
              "       [  11,    8,  991,    2,    1,    0,    1,   15,    3,    0],\n",
              "       [   0,    3,    3,  976,    1,   13,    1,    6,    3,    4],\n",
              "       [   3,    7,    0,    0,  944,    0,    4,    2,    1,   21],\n",
              "       [   5,    0,    0,   12,    2,  862,    4,    1,    2,    4],\n",
              "       [   5,    3,    0,    0,    3,    2,  945,    0,    0,    0],\n",
              "       [   0,   22,    4,    0,    3,    0,    0,  988,    0,   11],\n",
              "       [   8,    3,    5,   13,    6,   12,    5,    5,  913,    4],\n",
              "       [   5,    7,    3,    9,    7,    3,    1,   10,    2,  962]])"
            ]
          },
          "metadata": {},
          "execution_count": 69
        }
      ]
    },
    {
      "cell_type": "code",
      "source": [
        "#Precision\n",
        "precision_score_train = precision_score(y_train, y_train_pred, average='micro')\n",
        "precision_score_train"
      ],
      "metadata": {
        "id": "BwxsgUfYWv_w",
        "outputId": "ddcacf6d-f704-4017-ecf5-25d8fc88fbec",
        "colab": {
          "base_uri": "https://localhost:8080/"
        }
      },
      "execution_count": 75,
      "outputs": [
        {
          "output_type": "execute_result",
          "data": {
            "text/plain": [
              "0.9819166666666667"
            ]
          },
          "metadata": {},
          "execution_count": 75
        }
      ]
    },
    {
      "cell_type": "code",
      "source": [
        "#Precision\n",
        "precision_score_test = precision_score(y_test, y_test_pred, average='micro')\n",
        "precision_score_test"
      ],
      "metadata": {
        "id": "OjjbiExe6cvV",
        "outputId": "703cd5a7-718c-4eb4-db17-17bb14e59dc2",
        "colab": {
          "base_uri": "https://localhost:8080/"
        }
      },
      "execution_count": 76,
      "outputs": [
        {
          "output_type": "execute_result",
          "data": {
            "text/plain": [
              "0.9688"
            ]
          },
          "metadata": {},
          "execution_count": 76
        }
      ]
    },
    {
      "cell_type": "code",
      "source": [
        "#Recall\n",
        "recall_score_train = recall_score(y_train, y_train_pred, average='micro') \n",
        "recall_score_train"
      ],
      "metadata": {
        "id": "Mq4SLajuXGyH",
        "outputId": "238a73c4-21a7-4702-b754-0f8530c0421d",
        "colab": {
          "base_uri": "https://localhost:8080/"
        }
      },
      "execution_count": 77,
      "outputs": [
        {
          "output_type": "execute_result",
          "data": {
            "text/plain": [
              "0.9819166666666667"
            ]
          },
          "metadata": {},
          "execution_count": 77
        }
      ]
    },
    {
      "cell_type": "code",
      "source": [
        "#Recall\n",
        "recall_score_test = recall_score(y_test, y_test_pred, average='micro') \n",
        "recall_score_test"
      ],
      "metadata": {
        "id": "mdU8srNR6e-P",
        "outputId": "30abfbfb-e0e3-4b54-c9d0-54456ca848cc",
        "colab": {
          "base_uri": "https://localhost:8080/"
        }
      },
      "execution_count": 78,
      "outputs": [
        {
          "output_type": "execute_result",
          "data": {
            "text/plain": [
              "0.9688"
            ]
          },
          "metadata": {},
          "execution_count": 78
        }
      ]
    },
    {
      "cell_type": "code",
      "source": [
        "#F1 score\n",
        "f1_score_train = f1_score(y_train, y_train_pred, average='micro')\n",
        "f1_score_train"
      ],
      "metadata": {
        "id": "g__TCT2vXRJP",
        "outputId": "58354913-1d62-4dae-c229-5f18bc548582",
        "colab": {
          "base_uri": "https://localhost:8080/"
        }
      },
      "execution_count": 83,
      "outputs": [
        {
          "output_type": "execute_result",
          "data": {
            "text/plain": [
              "0.9819166666666667"
            ]
          },
          "metadata": {},
          "execution_count": 83
        }
      ]
    },
    {
      "cell_type": "code",
      "source": [
        "#F1 score\n",
        "f1_score_test = f1_score(y_test, y_test_pred, average='micro')\n",
        "f1_score_test"
      ],
      "metadata": {
        "id": "9sW_48h26gsv",
        "outputId": "e550c47a-c8bd-435e-a7ec-613e0b112dd6",
        "colab": {
          "base_uri": "https://localhost:8080/"
        }
      },
      "execution_count": 84,
      "outputs": [
        {
          "output_type": "execute_result",
          "data": {
            "text/plain": [
              "0.9688"
            ]
          },
          "metadata": {},
          "execution_count": 84
        }
      ]
    },
    {
      "cell_type": "code",
      "source": [
        "#Try to find difference\n",
        "\n",
        "y_pos = y_test1[y_test1 != y_test_pred])\n",
        "y_pos\n",
        "\n",
        "# Na jutro wyświetlić wartości z dwóch tabel oraz obrazek i zobaczyć co tam jest"
      ],
      "metadata": {
        "id": "XLQfKy6jBnAk",
        "outputId": "f7e14625-f2ae-41b5-e9ec-4ba93df52a6e",
        "colab": {
          "base_uri": "https://localhost:8080/",
          "height": 131
        }
      },
      "execution_count": 87,
      "outputs": [
        {
          "output_type": "error",
          "ename": "SyntaxError",
          "evalue": "ignored",
          "traceback": [
            "\u001b[0;36m  File \u001b[0;32m\"<ipython-input-87-4578d32e7b3b>\"\u001b[0;36m, line \u001b[0;32m3\u001b[0m\n\u001b[0;31m    y_pos = y_test1[y_test1 != y_test_pred])\u001b[0m\n\u001b[0m                                           ^\u001b[0m\n\u001b[0;31mSyntaxError\u001b[0m\u001b[0;31m:\u001b[0m invalid syntax\n"
          ]
        }
      ]
    },
    {
      "cell_type": "code",
      "source": [
        "y_test.astype"
      ],
      "metadata": {
        "id": "XcFCiTsLSE4Z",
        "outputId": "45cf0e85-78b3-43cb-cc20-b7d9fda975dd",
        "colab": {
          "base_uri": "https://localhost:8080/"
        }
      },
      "execution_count": 56,
      "outputs": [
        {
          "output_type": "execute_result",
          "data": {
            "text/plain": [
              "<bound method NDFrame.astype of 60000    7\n",
              "60001    2\n",
              "60002    1\n",
              "60003    0\n",
              "60004    4\n",
              "        ..\n",
              "69995    2\n",
              "69996    3\n",
              "69997    4\n",
              "69998    5\n",
              "69999    6\n",
              "Name: class, Length: 10000, dtype: uint8>"
            ]
          },
          "metadata": {},
          "execution_count": 56
        }
      ]
    },
    {
      "cell_type": "code",
      "source": [
        "for idx1, idx2, in y_test[:10]:\n",
        " print(f\"{idx1}, {idx2}\")"
      ],
      "metadata": {
        "id": "k7PWLVDoP4e0",
        "outputId": "9381b246-72c9-41ee-97a7-f8889a818e5b",
        "colab": {
          "base_uri": "https://localhost:8080/",
          "height": 183
        }
      },
      "execution_count": 52,
      "outputs": [
        {
          "output_type": "error",
          "ename": "TypeError",
          "evalue": "ignored",
          "traceback": [
            "\u001b[0;31m---------------------------------------------------------------------------\u001b[0m",
            "\u001b[0;31mTypeError\u001b[0m                                 Traceback (most recent call last)",
            "\u001b[0;32m<ipython-input-52-195b0c68d12a>\u001b[0m in \u001b[0;36m<module>\u001b[0;34m\u001b[0m\n\u001b[0;32m----> 1\u001b[0;31m \u001b[0;32mfor\u001b[0m \u001b[0midx1\u001b[0m\u001b[0;34m,\u001b[0m \u001b[0midx2\u001b[0m\u001b[0;34m,\u001b[0m \u001b[0;32min\u001b[0m \u001b[0my_test\u001b[0m\u001b[0;34m[\u001b[0m\u001b[0;34m:\u001b[0m\u001b[0;36m10\u001b[0m\u001b[0;34m]\u001b[0m\u001b[0;34m:\u001b[0m\u001b[0;34m\u001b[0m\u001b[0;34m\u001b[0m\u001b[0m\n\u001b[0m\u001b[1;32m      2\u001b[0m  \u001b[0mprint\u001b[0m\u001b[0;34m(\u001b[0m\u001b[0;34mf\"{idx1}, {idx2}\"\u001b[0m\u001b[0;34m)\u001b[0m\u001b[0;34m\u001b[0m\u001b[0;34m\u001b[0m\u001b[0m\n",
            "\u001b[0;31mTypeError\u001b[0m: cannot unpack non-iterable int object"
          ]
        }
      ]
    },
    {
      "cell_type": "markdown",
      "source": [
        "XXX - tu skończyłem"
      ],
      "metadata": {
        "id": "-a9oJ3uFt9p8"
      }
    },
    {
      "cell_type": "markdown",
      "source": [
        "### Miary wydajności"
      ],
      "metadata": {
        "id": "Jkt-HXHm1ngh"
      }
    },
    {
      "cell_type": "code",
      "source": [
        "from sklearn.model_selection import cross_val_score\n",
        "cross_val_score(sgd_clf, X_train, y_train_5, cv=3, scoring=\"accuracy\")\n"
      ],
      "metadata": {
        "id": "xF0vIVGYzH3m",
        "outputId": "ff100755-515c-4f82-8850-a51ba5c64618",
        "colab": {
          "base_uri": "https://localhost:8080/",
          "height": 188
        }
      },
      "execution_count": null,
      "outputs": [
        {
          "output_type": "error",
          "ename": "NameError",
          "evalue": "ignored",
          "traceback": [
            "\u001b[0;31m---------------------------------------------------------------------------\u001b[0m",
            "\u001b[0;31mNameError\u001b[0m                                 Traceback (most recent call last)",
            "\u001b[0;32m<ipython-input-13-293e59c1408e>\u001b[0m in \u001b[0;36m<module>\u001b[0;34m\u001b[0m\n\u001b[1;32m      1\u001b[0m \u001b[0;32mfrom\u001b[0m \u001b[0msklearn\u001b[0m\u001b[0;34m.\u001b[0m\u001b[0mmodel_selection\u001b[0m \u001b[0;32mimport\u001b[0m \u001b[0mcross_val_score\u001b[0m\u001b[0;34m\u001b[0m\u001b[0;34m\u001b[0m\u001b[0m\n\u001b[0;32m----> 2\u001b[0;31m \u001b[0mcross_val_score\u001b[0m\u001b[0;34m(\u001b[0m\u001b[0msgd_clf\u001b[0m\u001b[0;34m,\u001b[0m \u001b[0mX_train\u001b[0m\u001b[0;34m,\u001b[0m \u001b[0my_train_5\u001b[0m\u001b[0;34m,\u001b[0m \u001b[0mcv\u001b[0m\u001b[0;34m=\u001b[0m\u001b[0;36m3\u001b[0m\u001b[0;34m,\u001b[0m \u001b[0mscoring\u001b[0m\u001b[0;34m=\u001b[0m\u001b[0;34m\"accuracy\"\u001b[0m\u001b[0;34m)\u001b[0m\u001b[0;34m\u001b[0m\u001b[0;34m\u001b[0m\u001b[0m\n\u001b[0m",
            "\u001b[0;31mNameError\u001b[0m: name 'sgd_clf' is not defined"
          ]
        }
      ]
    },
    {
      "cell_type": "code",
      "source": [
        "from sklearn.model_selection import cross_val_predict\n",
        "y_train_pred = cross_val_predict(sgd_clf, X_train, y_train_5, cv=3)"
      ],
      "metadata": {
        "id": "rF4s5BtE5qmm"
      },
      "execution_count": null,
      "outputs": []
    },
    {
      "cell_type": "code",
      "source": [
        "#Macierz pomyłek\n",
        "\n",
        "confusion_matrix(y_train_5, y_train_pred)\n"
      ],
      "metadata": {
        "id": "2QGwcuAe5loB"
      },
      "execution_count": null,
      "outputs": []
    },
    {
      "cell_type": "code",
      "source": [
        "# precyzja i pełność\n",
        "from sklearn.metrics import precision_score, recall_score\n",
        "precision_score(y_train_5, y_train_pred) # == 4096 / (4096 + 1522)\n"
      ],
      "metadata": {
        "id": "KLrTpS2SFSxG"
      },
      "execution_count": null,
      "outputs": []
    },
    {
      "cell_type": "code",
      "source": [
        "recall_score(y_train_5, y_train_pred) # == 4096 / (4096 + 1325"
      ],
      "metadata": {
        "id": "MrlY5gGAFZjE"
      },
      "execution_count": null,
      "outputs": []
    },
    {
      "cell_type": "code",
      "source": [
        "#F1 score\n",
        "from sklearn.metrics import f1_score\n",
        "f1_score(y_train_5, y_train_pred)"
      ],
      "metadata": {
        "id": "ttyldmGYGQDV"
      },
      "execution_count": null,
      "outputs": []
    },
    {
      "cell_type": "code",
      "source": [
        "#Kompromis miedzy precyzcją a pełnością\n",
        "\n",
        "y_scores = sgd_clf.decision_function([some_digit])\n",
        "y_scores\n"
      ],
      "metadata": {
        "id": "lahgjYL1t4v6"
      },
      "execution_count": null,
      "outputs": []
    },
    {
      "cell_type": "code",
      "source": [
        "threshold = 0\n",
        "y_some_digit_pred = (y_scores > threshold)\n",
        "y_some_digit_pred"
      ],
      "metadata": {
        "id": "MXqUdRyzt_aq"
      },
      "execution_count": null,
      "outputs": []
    },
    {
      "cell_type": "code",
      "source": [
        "threshold = 8000\n",
        "y_some_digit_pred = (y_scores > threshold)\n",
        "y_some_digit_pred"
      ],
      "metadata": {
        "id": "Gt_jYBnguDgd"
      },
      "execution_count": null,
      "outputs": []
    },
    {
      "cell_type": "code",
      "source": [
        "y_scores = cross_val_predict(sgd_clf, X_train, y_train_5, cv=3,\n",
        "method=\"decision_function\")"
      ],
      "metadata": {
        "id": "T6XZU7DBuO9S"
      },
      "execution_count": null,
      "outputs": []
    },
    {
      "cell_type": "code",
      "source": [
        "from sklearn.metrics import precision_recall_curve\n",
        "precisions, recalls, thresholds = precision_recall_curve(y_train_5, y_scores)"
      ],
      "metadata": {
        "id": "sYw_4WhYuVvP"
      },
      "execution_count": null,
      "outputs": []
    },
    {
      "cell_type": "code",
      "source": [
        "import matplotlib.pyplot as plt\n",
        "\n",
        "def plot_precision_recall_vs_threshold(precisions, recalls, thresholds):\n",
        "  plt.plot(thresholds, precisions[:-1], \"b--\", label=\"Precyzja\")\n",
        "  plt.plot(thresholds, recalls[:-1], \"g-\", label=\"Pełność\")\n",
        "\n",
        "# Zaznaczenie progu, dodanie legendy, etykiet osi i siatki\n",
        "plot_precision_recall_vs_threshold(precisions, recalls, thresholds)\n",
        "plt.show()"
      ],
      "metadata": {
        "id": "rNN3wJ9RucUh"
      },
      "execution_count": null,
      "outputs": []
    },
    {
      "cell_type": "code",
      "source": [
        "threshold_90_precision = thresholds[np.argmax(precisions >= 0.90)] \n",
        "threshold_90_precision"
      ],
      "metadata": {
        "id": "0bnqSuJsudQx"
      },
      "execution_count": null,
      "outputs": []
    },
    {
      "cell_type": "code",
      "source": [
        "y_train_pred_90 = (y_scores > threshold_90_precision)"
      ],
      "metadata": {
        "id": "jNfeN29WuyIG"
      },
      "execution_count": null,
      "outputs": []
    },
    {
      "cell_type": "code",
      "source": [
        "precision_score(y_train_5, y_train_pred_90)"
      ],
      "metadata": {
        "id": "ch3zs8Uvu0yB"
      },
      "execution_count": null,
      "outputs": []
    },
    {
      "cell_type": "code",
      "source": [
        "recall_score(y_train_5, y_train_pred_90)"
      ],
      "metadata": {
        "id": "ahyrzqDEu2ns"
      },
      "execution_count": null,
      "outputs": []
    },
    {
      "cell_type": "code",
      "source": [
        "# Wykres krzywej ROC\n",
        "from sklearn.metrics import roc_curve\n",
        "fpr, tpr, thresholds = roc_curve(y_train_5, y_scores)"
      ],
      "metadata": {
        "id": "t__zTefou4ZA"
      },
      "execution_count": null,
      "outputs": []
    },
    {
      "cell_type": "code",
      "source": [
        "def plot_roc_curve(fpr, tpr, label=None):\n",
        "  plt.plot(fpr, tpr, linewidth=2, label=label)\n",
        "  plt.plot([0, 1], [0, 1], 'k--') # Przerywana przekątna wykresu\n",
        "# Dodanie etykiety osi i siatki\n",
        "plot_roc_curve(fpr, tpr)\n",
        "plt.show()"
      ],
      "metadata": {
        "id": "AayvZiyPu73c"
      },
      "execution_count": null,
      "outputs": []
    },
    {
      "cell_type": "code",
      "source": [
        "from sklearn.metrics import roc_auc_score\n",
        "roc_auc_score(y_train_5, y_scores)"
      ],
      "metadata": {
        "id": "VFZW3vkgvDuq"
      },
      "execution_count": null,
      "outputs": []
    },
    {
      "cell_type": "code",
      "source": [
        "# Teraz sprawdzamy na innym klasyfikatorze\n",
        "from sklearn.ensemble import RandomForestClassifier\n",
        "forest_clf = RandomForestClassifier(random_state=42)\n",
        "y_probas_forest = cross_val_predict(forest_clf, X_train, y_train_5, cv=3,\n",
        "method=\"predict_proba\")"
      ],
      "metadata": {
        "id": "15Idm1rSvI5Y"
      },
      "execution_count": null,
      "outputs": []
    },
    {
      "cell_type": "code",
      "source": [
        "y_scores_forest = y_probas_forest[:, 1] # Wynik = prawd. przynależności do klasy pozytywnej\n",
        "fpr_forest, tpr_forest, thresholds_forest = roc_curve(y_train_5,y_scores_forest)"
      ],
      "metadata": {
        "id": "zJbD29KVwQkI"
      },
      "execution_count": null,
      "outputs": []
    },
    {
      "cell_type": "code",
      "source": [
        "plt.plot(fpr, tpr, \"b:\", label=\"SGD\")\n",
        "plot_roc_curve(fpr_forest, tpr_forest, \"Las losowy\")\n",
        "plt.legend(loc=\"lower right\")\n",
        "plt.show()"
      ],
      "metadata": {
        "id": "Rq4APVNqwUrv"
      },
      "execution_count": null,
      "outputs": []
    },
    {
      "cell_type": "code",
      "source": [
        "roc_auc_score(y_train_5, y_scores_forest)"
      ],
      "metadata": {
        "id": "bVpGCNUnwhcS"
      },
      "execution_count": null,
      "outputs": []
    },
    {
      "cell_type": "markdown",
      "source": [
        "### Wieloklasowa"
      ],
      "metadata": {
        "id": "w3s_HNwY3H23"
      }
    },
    {
      "cell_type": "code",
      "source": [
        "#Klasyfikator wektorów nośnych\n",
        "\n",
        "from sklearn.svm import SVC\n",
        "svm_clf = SVC()\n",
        "svm_clf.fit(X_train, y_train) # y_train, a nie y_train_5\n",
        "svm_clf.predict([some_digit])\n"
      ],
      "metadata": {
        "id": "-tw6AHwaw9i5"
      },
      "execution_count": null,
      "outputs": []
    },
    {
      "cell_type": "code",
      "source": [
        "\"\"\"\n",
        "Scikit-Learn skorzystał w rzeczywistości ze strategii OvO: wytrenował\n",
        "45 klasyfikatorów binarnych, uzyskał wyniki decyzyjne dla analizowanego obrazu i wybrał klasę, która\n",
        "wygrała większość „pojedynków”.\n",
        "\"\"\"\n",
        "some_digit_scores = svm_clf.decision_function([some_digit])\n",
        "some_digit_scores"
      ],
      "metadata": {
        "id": "BUxfC4apxOpw"
      },
      "execution_count": null,
      "outputs": []
    },
    {
      "cell_type": "code",
      "source": [
        "# Można samemu wybrać strategię\n",
        "\n",
        "from sklearn.multiclass import OneVsRestClassifier\n",
        "ovr_clf = OneVsRestClassifier(SVC())\n",
        "ovr_clf.fit(X_train, y_train)\n",
        "ovr_clf.predict([some_digit])\n"
      ],
      "metadata": {
        "id": "r5PPVxZK4n9B"
      },
      "execution_count": null,
      "outputs": []
    },
    {
      "cell_type": "code",
      "source": [
        "len(ovr_clf.estimators_)"
      ],
      "metadata": {
        "id": "otXqlHCs7D3-"
      },
      "execution_count": null,
      "outputs": []
    },
    {
      "cell_type": "code",
      "source": [
        "sgd_clf.fit(X_train, y_train)\n",
        "sgd_clf.predict([some_digit])\n"
      ],
      "metadata": {
        "id": "r0W8hdeL7Swh"
      },
      "execution_count": null,
      "outputs": []
    },
    {
      "cell_type": "code",
      "source": [
        "sgd_clf.decision_function([some_digit])"
      ],
      "metadata": {
        "id": "mUA1Lsf47WAX"
      },
      "execution_count": null,
      "outputs": []
    },
    {
      "cell_type": "code",
      "source": [
        "cross_val_score(sgd_clf, X_train, y_train, cv=3, scoring=\"accuracy\")"
      ],
      "metadata": {
        "id": "YXxBWxge7iUr"
      },
      "execution_count": null,
      "outputs": []
    },
    {
      "cell_type": "code",
      "source": [
        "from sklearn.preprocessing import StandardScaler\n",
        "scaler = StandardScaler()\n",
        "X_train_scaled = scaler.fit_transform(X_train.astype(np.float64))\n",
        "cross_val_score(sgd_clf, X_train_scaled, y_train, cv=3, scoring=\"accuracy\")"
      ],
      "metadata": {
        "id": "V4dwi2YP7per"
      },
      "execution_count": null,
      "outputs": []
    },
    {
      "cell_type": "markdown",
      "source": [
        "### Analiza błędów"
      ],
      "metadata": {
        "id": "jmgPuBUGBRz4"
      }
    },
    {
      "cell_type": "code",
      "source": [
        "# Macierz pomyłek\n",
        "\n",
        "y_train_pred = cross_val_predict(sgd_clf, X_train_scaled, y_train, cv=3)\n",
        "conf_mx = confusion_matrix(y_train, y_train_pred)\n",
        "conf_mx  "
      ],
      "metadata": {
        "id": "qYOwPcj9BTCd"
      },
      "execution_count": null,
      "outputs": []
    },
    {
      "cell_type": "code",
      "source": [
        "plt.matshow(conf_mx, cmap=plt.cm.gray)\n",
        "plt.show()"
      ],
      "metadata": {
        "id": "2zMIAkHjGgNE"
      },
      "execution_count": null,
      "outputs": []
    },
    {
      "cell_type": "code",
      "source": [
        "row_sums = conf_mx.sum(axis=1, keepdims=True)\n",
        "norm_conf_mx = conf_mx / row_sums"
      ],
      "metadata": {
        "id": "vhNH8ygujMkd"
      },
      "execution_count": null,
      "outputs": []
    },
    {
      "cell_type": "code",
      "source": [
        "np.fill_diagonal(norm_conf_mx, 0)\n",
        "plt.matshow(norm_conf_mx, cmap=plt.cm.gray)\n",
        "plt.show()"
      ],
      "metadata": {
        "id": "0ywrQHHojO1N"
      },
      "execution_count": null,
      "outputs": []
    },
    {
      "cell_type": "code",
      "source": [
        "cl_a, cl_b = 3, 5\n",
        "X_aa = X_train[(y_train == cl_a) & (y_train_pred == cl_a)]\n",
        "X_ab = X_train[(y_train == cl_a) & (y_train_pred == cl_b)]\n",
        "X_ba = X_train[(y_train == cl_b) & (y_train_pred == cl_a)]\n",
        "X_bb = X_train[(y_train == cl_b) & (y_train_pred == cl_b)]\n",
        "plt.figure(figsize=(8,8))\n",
        "plt.subplot(221); plot_digits(X_aa[:25], images_per_row=5)\n",
        "plt.subplot(222); plot_digits(X_ab[:25], images_per_row=5)\n",
        "plt.subplot(223); plot_digits(X_ba[:25], images_per_row=5)\n",
        "plt.subplot(224); plot_digits(X_bb[:25], images_per_row=5)\n",
        "plt.show()"
      ],
      "metadata": {
        "id": "aYmJDUdtj2Dd"
      },
      "execution_count": null,
      "outputs": []
    },
    {
      "cell_type": "markdown",
      "source": [
        "### Klasyfikacja wieloetykietowa"
      ],
      "metadata": {
        "id": "Y6NDmlMkl7Kx"
      }
    },
    {
      "cell_type": "code",
      "source": [
        "from sklearn.neighbors import KNeighborsClassifier\n",
        "y_train_large = (y_train >= 7)\n",
        "y_train_odd = (y_train % 2 == 1)\n",
        "y_multilabel = np.c_[y_train_large, y_train_odd]\n",
        "knn_clf = KNeighborsClassifier()\n",
        "knn_clf.fit(X_train, y_multilabel)"
      ],
      "metadata": {
        "id": "HskWxXW6l8LR"
      },
      "execution_count": null,
      "outputs": []
    },
    {
      "cell_type": "code",
      "source": [
        "knn_clf.predict([some_digit])"
      ],
      "metadata": {
        "id": "qdpT1_QBmwJ9"
      },
      "execution_count": null,
      "outputs": []
    },
    {
      "cell_type": "code",
      "source": [
        "#F1 score\n",
        "from sklearn.model_selection import cross_val_predict\n",
        "y_train_knn_pred = cross_val_predict(knn_clf, X_train, y_multilabel, cv=3)\n",
        "\n"
      ],
      "metadata": {
        "id": "zeBWVo2fi_4s"
      },
      "execution_count": null,
      "outputs": []
    },
    {
      "cell_type": "code",
      "source": [
        "from sklearn.metrics import f1_score\n",
        "f1_score(y_multilabel, y_train_knn_pred, average=\"macro\")"
      ],
      "metadata": {
        "id": "Vqcfbb0LjA_B"
      },
      "execution_count": null,
      "outputs": []
    },
    {
      "cell_type": "markdown",
      "source": [
        "### Klasyfikacja wielowyjściowa"
      ],
      "metadata": {
        "id": "kjB4ryvflMg4"
      }
    },
    {
      "cell_type": "code",
      "source": [
        "# Utworzenie zbiorów uczących i testowych\n",
        "\n",
        "noise = np.random.randint(0, 100, (len(X_train), 784))\n",
        "X_train_mod = X_train + noise\n",
        "noise = np.random.randint(0, 100, (len(X_test), 784))\n",
        "X_test_mod = X_test + noise\n",
        "y_train_mod = X_train\n",
        "y_test_mod = X_test"
      ],
      "metadata": {
        "id": "cgAxGDQzlXCd"
      },
      "execution_count": null,
      "outputs": []
    },
    {
      "cell_type": "code",
      "source": [
        "knn_clf.fit(X_train_mod, y_train_mod)\n",
        "some_index = 5\n",
        "clean_digit = knn_clf.predict([X_test_mod[some_index]])\n",
        "plot_digit(clean_digit)"
      ],
      "metadata": {
        "id": "UiCCGminls8Q"
      },
      "execution_count": null,
      "outputs": []
    },
    {
      "cell_type": "code",
      "source": [],
      "metadata": {
        "id": "JlRFNqQtmyhZ"
      },
      "execution_count": null,
      "outputs": []
    }
  ]
}