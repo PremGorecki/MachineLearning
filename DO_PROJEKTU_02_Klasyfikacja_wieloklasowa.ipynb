{
  "nbformat": 4,
  "nbformat_minor": 0,
  "metadata": {
    "colab": {
      "provenance": [],
      "authorship_tag": "ABX9TyNLyULbjqLvHksU/yO7laIG",
      "include_colab_link": true
    },
    "kernelspec": {
      "name": "python3",
      "display_name": "Python 3"
    },
    "language_info": {
      "name": "python"
    }
  },
  "cells": [
    {
      "cell_type": "markdown",
      "metadata": {
        "id": "view-in-github",
        "colab_type": "text"
      },
      "source": [
        "<a href=\"https://colab.research.google.com/github/PremGorecki/MachineLearning/blob/main/DO_PROJEKTU_02_Klasyfikacja_wieloklasowa.ipynb\" target=\"_parent\"><img src=\"https://colab.research.google.com/assets/colab-badge.svg\" alt=\"Open In Colab\"/></a>"
      ]
    },
    {
      "cell_type": "code",
      "execution_count": 2,
      "metadata": {
        "id": "OnXLZfmxFnyH"
      },
      "outputs": [],
      "source": [
        "#Import bibliotek\n",
        "import numpy as np\n",
        "import pandas as pd\n",
        "\n"
      ]
    },
    {
      "cell_type": "code",
      "source": [
        "np.random.seed(69)\n",
        "\n",
        "MAX_SIZE = 3\n",
        "\n",
        "badA_par1 = np.random.randint(low=500, high=2000, size=(MAX_SIZE))\n",
        "badA_par2 = np.random.randint(low=1, high=9, size=(MAX_SIZE,1))\n",
        "badA_par3 = np.random.randint(low=-10, high=15, size=(MAX_SIZE,1))\n",
        "badA_par4 = np.random.randint(low=1, high=4, size=(MAX_SIZE,1))\n",
        "badA_par5 = np.random.randint(low=1, high=4, size=(MAX_SIZE,1))\n",
        "badA_par6 = np.random.randint(low=-15, high=0, size=(MAX_SIZE,1))\n",
        "badA_par7 = 100 * np.random.random(size=(MAX_SIZE,1))"
      ],
      "metadata": {
        "id": "t14vQcQDF-ps"
      },
      "execution_count": 47,
      "outputs": []
    },
    {
      "cell_type": "code",
      "source": [
        "data = np.c_[badA_par1, badA_par2, badA_par3, badA_par4, badA_par5, badA_par6]\n",
        "data"
      ],
      "metadata": {
        "colab": {
          "base_uri": "https://localhost:8080/"
        },
        "id": "DNvTEn7PGdn7",
        "outputId": "14b387b1-8d97-4be9-9623-dd29f01bb97e"
      },
      "execution_count": 41,
      "outputs": [
        {
          "output_type": "execute_result",
          "data": {
            "text/plain": [
              "array([[1578,    3,    7,    1,    1,  -10],\n",
              "       [1727,    8,   12,    2,    1,   -5],\n",
              "       [1119,    5,   -1,    3,    1,  -11]])"
            ]
          },
          "metadata": {},
          "execution_count": 41
        }
      ]
    },
    {
      "cell_type": "code",
      "source": [
        "badA_par7"
      ],
      "metadata": {
        "colab": {
          "base_uri": "https://localhost:8080/"
        },
        "id": "PovzM2SQIWZG",
        "outputId": "0607dbc2-6b42-4160-de32-68903cf5d836"
      },
      "execution_count": 48,
      "outputs": [
        {
          "output_type": "execute_result",
          "data": {
            "text/plain": [
              "array([[9.3788823 ],\n",
              "       [1.93870722],\n",
              "       [8.17017933]])"
            ]
          },
          "metadata": {},
          "execution_count": 48
        }
      ]
    },
    {
      "cell_type": "code",
      "source": [],
      "metadata": {
        "id": "tqYizDv9K1Yw"
      },
      "execution_count": null,
      "outputs": []
    }
  ]
}