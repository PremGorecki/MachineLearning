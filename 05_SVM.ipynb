{
  "nbformat": 4,
  "nbformat_minor": 0,
  "metadata": {
    "colab": {
      "provenance": [],
      "authorship_tag": "ABX9TyPcd+nqr+2zV0d8P/50SCz8",
      "include_colab_link": true
    },
    "kernelspec": {
      "name": "python3",
      "display_name": "Python 3"
    },
    "language_info": {
      "name": "python"
    }
  },
  "cells": [
    {
      "cell_type": "markdown",
      "metadata": {
        "id": "view-in-github",
        "colab_type": "text"
      },
      "source": [
        "<a href=\"https://colab.research.google.com/github/PremGorecki/MachineLearning/blob/main/05_SVM.ipynb\" target=\"_parent\"><img src=\"https://colab.research.google.com/assets/colab-badge.svg\" alt=\"Open In Colab\"/></a>"
      ]
    },
    {
      "cell_type": "markdown",
      "source": [
        "## KLASYFIKACJA SVM"
      ],
      "metadata": {
        "id": "rp9hKvaJEB90"
      }
    },
    {
      "cell_type": "markdown",
      "source": [
        "###Klasyfikacja miękkiego marginesu"
      ],
      "metadata": {
        "id": "yyKYkvMl50AR"
      }
    },
    {
      "cell_type": "code",
      "execution_count": 1,
      "metadata": {
        "id": "jEBbsqh04Np_",
        "outputId": "a30b7fc0-9319-4a42-e2dc-a3709d5c8f45",
        "colab": {
          "base_uri": "https://localhost:8080/"
        }
      },
      "outputs": [
        {
          "output_type": "execute_result",
          "data": {
            "text/plain": [
              "Pipeline(steps=[('scaler', StandardScaler()),\n",
              "                ('linear_svc', LinearSVC(C=1, loss='hinge'))])"
            ]
          },
          "metadata": {},
          "execution_count": 1
        }
      ],
      "source": [
        "import numpy as np\n",
        "from sklearn import datasets\n",
        "from sklearn.pipeline import Pipeline\n",
        "from sklearn.preprocessing import StandardScaler\n",
        "from sklearn.svm import LinearSVC\n",
        "\n",
        "iris = datasets.load_iris()\n",
        "X = iris[\"data\"][:, (2, 3)] # Długość płatka, szerokość płatka\n",
        "y = (iris[\"target\"] == 2).astype(np.float64) # Iris virginica\n",
        "svm_clf = Pipeline([(\"scaler\", StandardScaler()),\n",
        "                    (\"linear_svc\", LinearSVC(C=1, loss=\"hinge\")),\n",
        "                   ])\n",
        "svm_clf.fit(X, y)"
      ]
    },
    {
      "cell_type": "code",
      "source": [
        "svm_clf.predict([[5.5, 1.7]])"
      ],
      "metadata": {
        "id": "vex415PR4i7l",
        "outputId": "a1bcca40-64ac-4e23-ef6b-b88946670592",
        "colab": {
          "base_uri": "https://localhost:8080/"
        }
      },
      "execution_count": 5,
      "outputs": [
        {
          "output_type": "execute_result",
          "data": {
            "text/plain": [
              "array([1.])"
            ]
          },
          "metadata": {},
          "execution_count": 5
        }
      ]
    },
    {
      "cell_type": "markdown",
      "source": [
        "### Nieliniowa klasyfikacja SVN"
      ],
      "metadata": {
        "id": "MwzbUuw159lt"
      }
    },
    {
      "cell_type": "code",
      "source": [
        "from sklearn.datasets import make_moons\n",
        "from sklearn.pipeline import Pipeline\n",
        "from sklearn.preprocessing import PolynomialFeatures\n",
        "X, y = make_moons(n_samples=100, noise=0.15)  \n",
        "polynomial_svm_clf = Pipeline([(\"poly_features\", PolynomialFeatures(degree=3)),\n",
        "                               (\"scaler\", StandardScaler()),\n",
        "                               (\"svm_clf\", LinearSVC(C=10, loss=\"hinge\"))\n",
        "                              ])\n",
        "polynomial_svm_clf.fit(X, y)"
      ],
      "metadata": {
        "id": "RoeKnueK4ne4",
        "outputId": "70ff0ce8-6dcb-4f90-eb46-6fc03b0d63dd",
        "colab": {
          "base_uri": "https://localhost:8080/"
        }
      },
      "execution_count": 6,
      "outputs": [
        {
          "output_type": "execute_result",
          "data": {
            "text/plain": [
              "Pipeline(steps=[('poly_features', PolynomialFeatures(degree=3)),\n",
              "                ('scaler', StandardScaler()),\n",
              "                ('svm_clf', LinearSVC(C=10, loss='hinge'))])"
            ]
          },
          "metadata": {},
          "execution_count": 6
        }
      ]
    },
    {
      "cell_type": "markdown",
      "source": [
        "### Jądro wielomianowe"
      ],
      "metadata": {
        "id": "sZdPnlHx_uys"
      }
    },
    {
      "cell_type": "code",
      "source": [
        "from sklearn.svm import SVC\n",
        "poly_kernel_svm_clf = Pipeline([\n",
        "(\"scaler\", StandardScaler()),\n",
        "(\"svm_clf\", SVC(kernel=\"poly\", degree=3, coef0=1, C=5))\n",
        "])\n",
        "poly_kernel_svm_clf.fit(X, y)"
      ],
      "metadata": {
        "id": "mpw4Q6yp-0x1",
        "outputId": "30757a01-ffa1-4365-ce09-5a3e66b9fea7",
        "colab": {
          "base_uri": "https://localhost:8080/"
        }
      },
      "execution_count": 7,
      "outputs": [
        {
          "output_type": "execute_result",
          "data": {
            "text/plain": [
              "Pipeline(steps=[('scaler', StandardScaler()),\n",
              "                ('svm_clf', SVC(C=5, coef0=1, kernel='poly'))])"
            ]
          },
          "metadata": {},
          "execution_count": 7
        }
      ]
    },
    {
      "cell_type": "markdown",
      "source": [
        "### Gaussowskie jądro RBF"
      ],
      "metadata": {
        "id": "eCK9ayt9Bdgv"
      }
    },
    {
      "cell_type": "code",
      "source": [
        "rbf_kernel_svm_clf = Pipeline([\n",
        "(\"scaler\", StandardScaler()),\n",
        "(\"svm_clf\", SVC(kernel=\"rbf\", gamma=5, C=0.001))\n",
        "])\n",
        "rbf_kernel_svm_clf.fit(X, y)"
      ],
      "metadata": {
        "id": "yGIpm_0V_x2c",
        "outputId": "467d3494-08ee-4741-c9e1-c3a6f8b5c6bb",
        "colab": {
          "base_uri": "https://localhost:8080/"
        }
      },
      "execution_count": 8,
      "outputs": [
        {
          "output_type": "execute_result",
          "data": {
            "text/plain": [
              "Pipeline(steps=[('scaler', StandardScaler()),\n",
              "                ('svm_clf', SVC(C=0.001, gamma=5))])"
            ]
          },
          "metadata": {},
          "execution_count": 8
        }
      ]
    },
    {
      "cell_type": "markdown",
      "source": [
        "## REGRESJA SVM"
      ],
      "metadata": {
        "id": "B3urRgkED--M"
      }
    },
    {
      "cell_type": "code",
      "source": [],
      "metadata": {
        "id": "ZezsJ0uiBg4J"
      },
      "execution_count": null,
      "outputs": []
    }
  ]
}