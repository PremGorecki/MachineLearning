{
  "nbformat": 4,
  "nbformat_minor": 0,
  "metadata": {
    "colab": {
      "provenance": [],
      "authorship_tag": "ABX9TyO5WoS+7rBNF1/2YOk1qgZO",
      "include_colab_link": true
    },
    "kernelspec": {
      "name": "python3",
      "display_name": "Python 3"
    },
    "language_info": {
      "name": "python"
    }
  },
  "cells": [
    {
      "cell_type": "markdown",
      "metadata": {
        "id": "view-in-github",
        "colab_type": "text"
      },
      "source": [
        "<a href=\"https://colab.research.google.com/github/PremGorecki/MachineLearning/blob/main/02_Regresja_liniowa_cwieczenia.ipynb\" target=\"_parent\"><img src=\"https://colab.research.google.com/assets/colab-badge.svg\" alt=\"Open In Colab\"/></a>"
      ]
    },
    {
      "cell_type": "code",
      "execution_count": 1,
      "metadata": {
        "id": "SCawjcYrCjSy"
      },
      "outputs": [],
      "source": [
        "import pandas as pd\n",
        "import numpy as np\n",
        "\n"
      ]
    },
    {
      "cell_type": "code",
      "source": [
        "from sklearn.metrics import r2_score #Coefficient of determination\n",
        "y_true = [3, -0.5, 2, 7]\n",
        "y_pred = [2.5, 0.0, 2, 8]\n",
        "r2_score(y_true, y_pred)\n"
      ],
      "metadata": {
        "id": "OdJ1idwfDA9O",
        "outputId": "31f31b13-3bf4-4a34-9b78-01c1282b1e91",
        "colab": {
          "base_uri": "https://localhost:8080/"
        }
      },
      "execution_count": 2,
      "outputs": [
        {
          "output_type": "execute_result",
          "data": {
            "text/plain": [
              "0.9486081370449679"
            ]
          },
          "metadata": {},
          "execution_count": 2
        }
      ]
    },
    {
      "cell_type": "code",
      "source": [
        "y_true2 = [[0.5, 1], [-1, 1], [7, -6]]\n",
        "y_pred2 = [[0, 2], [-1, 2], [8, -5]]\n",
        "r2_score(y_true2, y_pred2)\n"
      ],
      "metadata": {
        "id": "tvaaZB0IDI1Z",
        "outputId": "2a38bb89-1352-416a-f8ed-90785f5502e7",
        "colab": {
          "base_uri": "https://localhost:8080/"
        }
      },
      "execution_count": 3,
      "outputs": [
        {
          "output_type": "execute_result",
          "data": {
            "text/plain": [
              "0.9368005266622779"
            ]
          },
          "metadata": {},
          "execution_count": 3
        }
      ]
    },
    {
      "cell_type": "code",
      "source": [
        "X = np.array([ [1, 2],\n",
        "               [2, 4],\n",
        "               [3, 6],\n",
        "               [4, 8],\n",
        "               [5, 10]\n",
        "            ])\n",
        "y = np.array([ [1],\n",
        "               [2],\n",
        "               [3],\n",
        "               [4],\n",
        "               [5]\n",
        "              ])"
      ],
      "metadata": {
        "id": "2GdDAXvBDWkv"
      },
      "execution_count": 8,
      "outputs": []
    },
    {
      "cell_type": "code",
      "source": [
        "from sklearn.linear_model import LinearRegression\n",
        "\n",
        "lin_reg = LinearRegression()\n",
        "lin_reg.fit(X, y)\n",
        "\n"
      ],
      "metadata": {
        "id": "Un5NwA5jEdIh",
        "outputId": "16013d06-c525-4231-a5c1-0a0684f1d073",
        "colab": {
          "base_uri": "https://localhost:8080/"
        }
      },
      "execution_count": 12,
      "outputs": [
        {
          "output_type": "execute_result",
          "data": {
            "text/plain": [
              "LinearRegression()"
            ]
          },
          "metadata": {},
          "execution_count": 12
        }
      ]
    },
    {
      "cell_type": "code",
      "source": [
        "y_p = lin_reg.predict(X)\n",
        "\n"
      ],
      "metadata": {
        "id": "WuiEK0Q9FnHd"
      },
      "execution_count": 13,
      "outputs": []
    },
    {
      "cell_type": "code",
      "source": [
        "r2_score(y, y_p)\n"
      ],
      "metadata": {
        "id": "hAnVxe8LGVKm",
        "outputId": "00f6428f-aa2b-4e38-b8b2-a001db9cb2ad",
        "colab": {
          "base_uri": "https://localhost:8080/"
        }
      },
      "execution_count": 44,
      "outputs": [
        {
          "output_type": "execute_result",
          "data": {
            "text/plain": [
              "1.0"
            ]
          },
          "metadata": {},
          "execution_count": 44
        }
      ]
    },
    {
      "cell_type": "code",
      "source": [
        "#Teraz zbiór testowy\n",
        "X_test = np.array([ [6, 12],\n",
        "                    [7, 15],\n",
        "                    [8, 18],\n",
        "                    [9, 21],\n",
        "                    [10, 24]\n",
        "            ])\n",
        "y_test = np.array([ [6],\n",
        "               [6],\n",
        "               [6],\n",
        "               [6],\n",
        "               [6]\n",
        "              ])\n"
      ],
      "metadata": {
        "id": "s-Og4K8AQHxx"
      },
      "execution_count": 48,
      "outputs": []
    },
    {
      "cell_type": "code",
      "source": [
        "y_pred = lin_reg.predict(X_test)"
      ],
      "metadata": {
        "id": "mTMXT5gvQaMT"
      },
      "execution_count": 49,
      "outputs": []
    },
    {
      "cell_type": "code",
      "source": [
        "y_pred"
      ],
      "metadata": {
        "id": "wn_M0QhwRF3t",
        "outputId": "6554d446-ffb7-4a8a-a0e6-66ae08633ce3",
        "colab": {
          "base_uri": "https://localhost:8080/"
        }
      },
      "execution_count": 50,
      "outputs": [
        {
          "output_type": "execute_result",
          "data": {
            "text/plain": [
              "array([[ 6. ],\n",
              "       [ 7.4],\n",
              "       [ 8.8],\n",
              "       [10.2],\n",
              "       [11.6]])"
            ]
          },
          "metadata": {},
          "execution_count": 50
        }
      ]
    },
    {
      "cell_type": "code",
      "source": [
        "# czemu tu jest zero !!!\n",
        "r2_score(y_test, y_pred)"
      ],
      "metadata": {
        "id": "qbuIukR4QhAH",
        "outputId": "b5bc3ec7-6e51-47ca-f993-8b9c08fe7840",
        "colab": {
          "base_uri": "https://localhost:8080/"
        }
      },
      "execution_count": 51,
      "outputs": [
        {
          "output_type": "execute_result",
          "data": {
            "text/plain": [
              "0.0"
            ]
          },
          "metadata": {},
          "execution_count": 51
        }
      ]
    },
    {
      "cell_type": "code",
      "source": [
        "#To na później bo nie działa\n",
        "\n",
        "#from sklearn.metrics import accuracy_score\n",
        "\n",
        "#accuracy_score(y, y_p)\n",
        "\n"
      ],
      "metadata": {
        "id": "vPfIWD7FGZs6"
      },
      "execution_count": 27,
      "outputs": []
    },
    {
      "cell_type": "code",
      "source": [
        "# To przykład jak może działać\n",
        "from sklearn.metrics import accuracy_score\n",
        "y_pred = np.array([0, 2, 1, 3])\n",
        "y_true = np.array([0, 1, 2, 3])\n",
        "accuracy_score(y_true, y_pred)"
      ],
      "metadata": {
        "id": "E3xyEIopGtzc",
        "outputId": "ba39d897-236d-47e7-f000-48113f9d68ed",
        "colab": {
          "base_uri": "https://localhost:8080/"
        }
      },
      "execution_count": 28,
      "outputs": [
        {
          "output_type": "execute_result",
          "data": {
            "text/plain": [
              "0.5"
            ]
          },
          "metadata": {},
          "execution_count": 28
        }
      ]
    },
    {
      "cell_type": "code",
      "source": [
        "# Teraz testuejmy na dynych których nie widział\n",
        "\n"
      ],
      "metadata": {
        "id": "jM1ZeVpVHt_q"
      },
      "execution_count": null,
      "outputs": []
    }
  ]
}