{
  "nbformat": 4,
  "nbformat_minor": 0,
  "metadata": {
    "colab": {
      "provenance": [],
      "collapsed_sections": [],
      "authorship_tag": "ABX9TyPfAZCZII3zvqJyxzuolol1",
      "include_colab_link": true
    },
    "kernelspec": {
      "name": "python3",
      "display_name": "Python 3"
    },
    "language_info": {
      "name": "python"
    }
  },
  "cells": [
    {
      "cell_type": "markdown",
      "metadata": {
        "id": "view-in-github",
        "colab_type": "text"
      },
      "source": [
        "<a href=\"https://colab.research.google.com/github/PremGorecki/MachineLearning/blob/main/Testowy01.ipynb\" target=\"_parent\"><img src=\"https://colab.research.google.com/assets/colab-badge.svg\" alt=\"Open In Colab\"/></a>"
      ]
    },
    {
      "cell_type": "code",
      "source": [
        "import numpy as np"
      ],
      "metadata": {
        "id": "ZjUhU2HNAw_b"
      },
      "execution_count": null,
      "outputs": []
    },
    {
      "cell_type": "code",
      "execution_count": null,
      "metadata": {
        "id": "MktkCBGE_7fc",
        "colab": {
          "base_uri": "https://localhost:8080/"
        },
        "outputId": "254904db-14b8-4395-9935-48855da4910f"
      },
      "outputs": [
        {
          "output_type": "execute_result",
          "data": {
            "text/plain": [
              "RandomForestClassifier(random_state=0)"
            ]
          },
          "metadata": {},
          "execution_count": 4
        }
      ],
      "source": [
        "from sklearn.ensemble import RandomForestClassifier\n",
        "\n",
        "clf = RandomForestClassifier(random_state=0)\n",
        "X = [[ 1,  2,  3],  # 2 samples, 3 features\n",
        "     [11, 12, 13]]\n",
        "y = [0, 1]  # classes of each sample\n",
        "clf.fit(X, y)\n",
        "RandomForestClassifier(random_state=0)"
      ]
    },
    {
      "cell_type": "code",
      "source": [
        "clf.predict(X)  # predict classes of the training data\n"
      ],
      "metadata": {
        "colab": {
          "base_uri": "https://localhost:8080/"
        },
        "id": "tZEE3GCkBJns",
        "outputId": "2bade51d-28a7-4b5f-ad3f-d2d53455a6f8"
      },
      "execution_count": null,
      "outputs": [
        {
          "output_type": "execute_result",
          "data": {
            "text/plain": [
              "array([0, 1])"
            ]
          },
          "metadata": {},
          "execution_count": 5
        }
      ]
    },
    {
      "cell_type": "code",
      "source": [
        "clf.predict([[4, 5, 6], [14, 15, 16]])  # predict classes of new data\n"
      ],
      "metadata": {
        "id": "9dUtR0qRAEIu",
        "colab": {
          "base_uri": "https://localhost:8080/"
        },
        "outputId": "d0cfbedc-6497-452b-b1ad-6021cf495e59"
      },
      "execution_count": null,
      "outputs": [
        {
          "output_type": "execute_result",
          "data": {
            "text/plain": [
              "array([0, 1])"
            ]
          },
          "metadata": {},
          "execution_count": 8
        }
      ]
    },
    {
      "cell_type": "code",
      "source": [],
      "metadata": {
        "id": "LM0GgUGxBOdY"
      },
      "execution_count": null,
      "outputs": []
    }
  ]
}