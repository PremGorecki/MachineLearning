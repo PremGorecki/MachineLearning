{
  "nbformat": 4,
  "nbformat_minor": 0,
  "metadata": {
    "colab": {
      "provenance": [],
      "authorship_tag": "ABX9TyMY0IXBVOZ6TaoYo+tRqypK",
      "include_colab_link": true
    },
    "kernelspec": {
      "name": "python3",
      "display_name": "Python 3"
    },
    "language_info": {
      "name": "python"
    }
  },
  "cells": [
    {
      "cell_type": "markdown",
      "metadata": {
        "id": "view-in-github",
        "colab_type": "text"
      },
      "source": [
        "<a href=\"https://colab.research.google.com/github/PremGorecki/MachineLearning/blob/main/07_lasy_losowe.ipynb\" target=\"_parent\"><img src=\"https://colab.research.google.com/assets/colab-badge.svg\" alt=\"Open In Colab\"/></a>"
      ]
    },
    {
      "cell_type": "code",
      "source": [
        "from sklearn.datasets import load_iris\n",
        "from sklearn.tree import DecisionTreeClassifier\n",
        "iris = load_iris()\n",
        "X = iris.data[:, 2:] # Długość i szerokość płatka\n",
        "y = iris.target"
      ],
      "metadata": {
        "id": "3CRe2OsUIyw8"
      },
      "execution_count": 1,
      "outputs": []
    },
    {
      "cell_type": "code",
      "source": [
        "from sklearn.model_selection import train_test_split\n",
        "X_train, X_test, y_train, y_test = train_test_split(\n",
        "    X, y, test_size=0.33, random_state=42)"
      ],
      "metadata": {
        "id": "O4IV-rFWI4Ki"
      },
      "execution_count": 2,
      "outputs": []
    },
    {
      "cell_type": "code",
      "execution_count": 3,
      "metadata": {
        "colab": {
          "base_uri": "https://localhost:8080/"
        },
        "id": "5d9iavSOFoX8",
        "outputId": "ce85db84-3888-4552-ee93-a351011acfce"
      },
      "outputs": [
        {
          "output_type": "execute_result",
          "data": {
            "text/plain": [
              "VotingClassifier(estimators=[('lr', LogisticRegression()),\n",
              "                             ('rf', RandomForestClassifier()), ('svc', SVC())])"
            ]
          },
          "metadata": {},
          "execution_count": 3
        }
      ],
      "source": [
        "from sklearn.ensemble import RandomForestClassifier\n",
        "from sklearn.ensemble import VotingClassifier\n",
        "from sklearn.linear_model import LogisticRegression\n",
        "from sklearn.svm import SVC\n",
        "\n",
        "log_clf = LogisticRegression()\n",
        "rnd_clf = RandomForestClassifier()\n",
        "svm_clf = SVC()\n",
        "\n",
        "voting_clf = VotingClassifier(\n",
        "    estimators=[('lr', log_clf), ('rf', rnd_clf), ('svc', svm_clf)], \n",
        "    voting='hard')\n",
        "\n",
        "\n",
        "\n",
        "voting_clf.fit(X_train, y_train)"
      ]
    },
    {
      "cell_type": "code",
      "source": [
        "# Przyjżyjmy się dokładności  klasyfikatora\n",
        "\n",
        "from sklearn.metrics import accuracy_score\n",
        "\n",
        "for clf in (log_clf, rnd_clf, svm_clf, voting_clf):\n",
        "  clf.fit(X_train, y_train)\n",
        "  y_pred = clf.predict(X_test)\n",
        "  print(clf.__class__.__name__, accuracy_score(y_test, y_pred))"
      ],
      "metadata": {
        "id": "fpIf345MIdPm",
        "colab": {
          "base_uri": "https://localhost:8080/"
        },
        "outputId": "533b7218-68e9-477b-f53c-c15aae88404b"
      },
      "execution_count": 4,
      "outputs": [
        {
          "output_type": "stream",
          "name": "stdout",
          "text": [
            "LogisticRegression 1.0\n",
            "RandomForestClassifier 0.98\n",
            "SVC 1.0\n",
            "VotingClassifier 1.0\n"
          ]
        }
      ]
    },
    {
      "cell_type": "markdown",
      "source": [],
      "metadata": {
        "id": "TwpIqJjgRc7_"
      }
    },
    {
      "cell_type": "markdown",
      "source": [
        "### BaggingClassifier"
      ],
      "metadata": {
        "id": "2c-eeiwGRg7z"
      }
    },
    {
      "cell_type": "code",
      "source": [
        "from sklearn.ensemble import BaggingClassifier\n",
        "from sklearn.tree import DecisionTreeClassifier\n",
        "\n",
        "bag_clf = BaggingClassifier(DecisionTreeClassifier(), \n",
        "                            n_estimators=500, #500 drzew\n",
        "                            max_samples=100, \n",
        "                            bootstrap=True, #True->Agregacja(ze zwracaniem)\n",
        "                                            #False->wklejanie\n",
        "                            n_jobs=-1) # -1 -> wszystkie rdzenie procka\n",
        "bag_clf.fit(X_train, y_train)\n",
        "y_pred = bag_clf.predict(X_test)\n",
        "print(bag_clf.__class__.__name__, accuracy_score(y_test, y_pred))"
      ],
      "metadata": {
        "colab": {
          "base_uri": "https://localhost:8080/"
        },
        "id": "A8bBO3YnJy_z",
        "outputId": "7552af72-c54f-4006-c38c-208664080387"
      },
      "execution_count": 5,
      "outputs": [
        {
          "output_type": "stream",
          "name": "stdout",
          "text": [
            "BaggingClassifier 1.0\n"
          ]
        }
      ]
    },
    {
      "cell_type": "code",
      "source": [
        "bag_clf = BaggingClassifier(DecisionTreeClassifier(), \n",
        "                            n_estimators=500, #500 drzew\n",
        "                            max_samples=100, \n",
        "                            bootstrap=False, #True->Agregacja(ze zwracaniem)\n",
        "                                            #False->wklejanie\n",
        "                            n_jobs=-1) # -1 -> wszystkie rdzenie procka\n",
        "bag_clf.fit(X_train, y_train)\n",
        "y_pred = bag_clf.predict(X_test)\n",
        "print(bag_clf.__class__.__name__, accuracy_score(y_test, y_pred))"
      ],
      "metadata": {
        "colab": {
          "base_uri": "https://localhost:8080/"
        },
        "id": "69UojFqBR_sS",
        "outputId": "384dbef6-7143-4dcf-f78c-2f626c35b6e0"
      },
      "execution_count": 6,
      "outputs": [
        {
          "output_type": "stream",
          "name": "stdout",
          "text": [
            "BaggingClassifier 0.98\n"
          ]
        }
      ]
    },
    {
      "cell_type": "code",
      "source": [
        "bag_clf.oob_score"
      ],
      "metadata": {
        "colab": {
          "base_uri": "https://localhost:8080/"
        },
        "id": "K_Us1cbnSKTR",
        "outputId": "0dee7b6d-75f0-49fd-fcb5-9ab5c99b0d15"
      },
      "execution_count": 7,
      "outputs": [
        {
          "output_type": "execute_result",
          "data": {
            "text/plain": [
              "False"
            ]
          },
          "metadata": {},
          "execution_count": 7
        }
      ]
    },
    {
      "cell_type": "code",
      "source": [
        "# Za pomocą poniższego kodu wyuczymy losowy las składający\n",
        "# się z 500 drzew (każde ograniczamy do 16 węzłów) \n",
        "# za pomocą wszystkich dostępnych rdzeni procesora\n",
        "\n",
        "from sklearn.ensemble import RandomForestClassifier\n",
        "\n",
        "rnd_clf = RandomForestClassifier(n_estimators=500, max_leaf_nodes=16, n_jobs=-1)\n",
        "rnd_clf.fit(X_train, y_train)\n",
        "\n",
        "y_pred_rf = rnd_clf.predict(X_test)"
      ],
      "metadata": {
        "id": "f769tV2OS_Tg"
      },
      "execution_count": 8,
      "outputs": []
    },
    {
      "cell_type": "code",
      "source": [
        "# Poniżej zaprezentowana klasa BaggingClassifier stanowi z grubsza odpowiednik\n",
        "# poprzednio zdefiniowanego klasyfikatora RandomForestClassifier:\n",
        "\n",
        "bag_clf = BaggingClassifier(\n",
        "DecisionTreeClassifier(splitter=\"random\", max_leaf_nodes=16),\n",
        "n_estimators=500, max_samples=1.0, bootstrap=True, n_jobs=-1)"
      ],
      "metadata": {
        "id": "GQD4Z_iC7q7G"
      },
      "execution_count": 9,
      "outputs": []
    },
    {
      "cell_type": "code",
      "source": [
        "# Moduł Scikit-Learn po treningu automatycznie oblicza wynik dla każdej cechy, a następnie skaluje\n",
        "# rezultaty tak, że suma wszystkich istotności wynosi 1.\n",
        "\n",
        "from sklearn.datasets import load_iris\n",
        "iris = load_iris()\n",
        "rnd_clf = RandomForestClassifier(n_estimators=500, n_jobs=-1)\n",
        "rnd_clf.fit(iris[\"data\"], iris[\"target\"])\n",
        "for name, score in zip(iris[\"feature_names\"], rnd_clf.feature_importances_):\n",
        "  print(name, score)"
      ],
      "metadata": {
        "id": "QnDQQF058JzB",
        "outputId": "1c1297c2-7f9d-4e3b-f5b4-be33f80a3f2e",
        "colab": {
          "base_uri": "https://localhost:8080/"
        }
      },
      "execution_count": 10,
      "outputs": [
        {
          "output_type": "stream",
          "name": "stdout",
          "text": [
            "sepal length (cm) 0.09116444319111061\n",
            "sepal width (cm) 0.02309508498687488\n",
            "petal length (cm) 0.4568984157629136\n",
            "petal width (cm) 0.4288420560591008\n"
          ]
        }
      ]
    },
    {
      "cell_type": "code",
      "source": [],
      "metadata": {
        "id": "AZko2Sav9x9q"
      },
      "execution_count": null,
      "outputs": []
    }
  ]
}